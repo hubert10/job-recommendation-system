{
 "cells": [
  {
   "cell_type": "code",
   "execution_count": 1,
   "metadata": {
    "collapsed": true
   },
   "outputs": [],
   "source": [
    "# http://muricoca.github.io/crab/tutorial.html#introducing-recommendation-engines"
   ]
  },
  {
   "cell_type": "code",
   "execution_count": 2,
   "metadata": {
    "collapsed": false
   },
   "outputs": [],
   "source": [
    "import random \n",
    "import csv\n",
    "\n",
    "dataset = {} # define a dictionary\n",
    "with open('/home/nadine/Desktop/Hubert/Memoir/data/data.csv') as myfile:     \n",
    "    reader = csv.DictReader(myfile, delimiter=',')    \n",
    "    i = 0    \n",
    "    for line in reader:            \n",
    "        i += 1\n",
    "        if (i == 1):\n",
    "            continue    \n",
    "        \n",
    "        if (int(line['UserId']) not in dataset):\n",
    "            dataset[int(line['UserId'])] = {}\n",
    "            \n",
    "        dataset[int(line['UserId'])][int(line['JobId'])] = float(line['Rating'])\n",
    "        \n",
    "        \n"
   ]
  },
  {
   "cell_type": "code",
   "execution_count": 3,
   "metadata": {
    "collapsed": false
   },
   "outputs": [],
   "source": [
    "#Create a Data Model\n",
    "\n",
    "from scikits.crab.models import MatrixPreferenceDataModel\n",
    "model = MatrixPreferenceDataModel(dataset)"
   ]
  },
  {
   "cell_type": "code",
   "execution_count": 4,
   "metadata": {
    "collapsed": true
   },
   "outputs": [],
   "source": [
    "# Creating Similarity\n",
    "from scikits.crab.metrics import pearson_correlation, euclidean_distances, jaccard_coefficient, cosine_distances\n",
    "from scikits.crab.similarities import UserSimilarity"
   ]
  },
  {
   "cell_type": "code",
   "execution_count": 5,
   "metadata": {
    "collapsed": false
   },
   "outputs": [
    {
     "data": {
      "text/plain": [
       "<MatrixPreferenceDataModel (2500 by 150)>"
      ]
     },
     "execution_count": 5,
     "metadata": {},
     "output_type": "execute_result"
    }
   ],
   "source": [
    "model"
   ]
  },
  {
   "cell_type": "code",
   "execution_count": 6,
   "metadata": {
    "collapsed": false
   },
   "outputs": [],
   "source": [
    "##User-based Similarity\n",
    "\n",
    "similarity1 = UserSimilarity(model, euclidean_distances, 3)\n",
    "similarity2 = UserSimilarity(model, cosine_distances)\n",
    "similarity3 = UserSimilarity(model, jaccard_coefficient)\n",
    "similarity4 = UserSimilarity(model, pearson_correlation)\n"
   ]
  },
  {
   "cell_type": "code",
   "execution_count": 7,
   "metadata": {
    "collapsed": false
   },
   "outputs": [],
   "source": [
    "# Building Recommender System\n",
    "from scikits.crab.recommenders.knn import UserBasedRecommender\n",
    "#from scikits.crab.neighborhood_strategies import AllNeighborsStrategy, NearestNeighborsStrategy\n",
    "from scikits.crab.recommenders.knn.neighborhood_strategies import NearestNeighborsStrategy"
   ]
  },
  {
   "cell_type": "code",
   "execution_count": 8,
   "metadata": {
    "collapsed": true
   },
   "outputs": [],
   "source": [
    "# Neighborhood Strategy\n",
    "neighborhood = NearestNeighborsStrategy()"
   ]
  },
  {
   "cell_type": "code",
   "execution_count": 9,
   "metadata": {
    "collapsed": false
   },
   "outputs": [
    {
     "name": "stdout",
     "output_type": "stream",
     "text": [
      "UserBasedRecommender(neighborhood_strategy=<scikits.crab.recommenders.knn.neighborhood_strategies.NearestNeighborsStrategy object at 0x7f1db76f8250>,\n",
      "           model=MatrixPreferenceDataModel (2500 by 150)\n",
      "         1          2          3          4          5        ...\n",
      "1        4.000000   4.000000   3.000000      ---        ---\n",
      "2           ---     2.000000   4.000000      ---        ---\n",
      "3           ---        ---        ---        ---     3.000000\n",
      "4     ...0   3.000000   3.000000   4.000000\n",
      "20          ---        ---        ---     3.000000   2.000000\n",
      "...,\n",
      "           capper=True, with_preference=False,\n",
      "           similarity=<scikits.crab.similarities.basic_similarities.UserSimilarity object at 0x7f1db76f8610>)\n"
     ]
    }
   ],
   "source": [
    "recsys = UserBasedRecommender(model, similarity3, neighborhood)\n",
    "print  recsys"
   ]
  },
  {
   "cell_type": "code",
   "execution_count": 10,
   "metadata": {
    "collapsed": true
   },
   "outputs": [],
   "source": [
    "# Evaluation\n",
    "## Root Mean Square Error (RMSE), Mean Absolute Error (MAE), Normalized Mean Absolute Error (NMAE), Precision, Recall, and F1 Score."
   ]
  },
  {
   "cell_type": "code",
   "execution_count": null,
   "metadata": {
    "collapsed": false
   },
   "outputs": [],
   "source": [
    "# Evaluating each metric separately\n",
    "from scikits.crab.metrics.classes import CfEvaluator\n"
   ]
  },
  {
   "cell_type": "code",
   "execution_count": null,
   "metadata": {
    "collapsed": false
   },
   "outputs": [
    {
     "name": "stderr",
     "output_type": "stream",
     "text": [
      "/usr/local/lib/python2.7/dist-packages/scikits/crab/metrics/sampling.py:75: VisibleDeprecationWarning: using a non-integer number instead of an integer will result in an error in the future\n",
      "  ind_train = permutation[-n_train:]\n",
      "/usr/local/lib/python2.7/dist-packages/scikits/crab/metrics/sampling.py:76: VisibleDeprecationWarning: using a non-integer number instead of an integer will result in an error in the future\n",
      "  ind_ignore = permutation[:-n_train]\n",
      "/usr/local/lib/python2.7/dist-packages/scikits/crab/recommenders/knn/classes.py:537: VisibleDeprecationWarning: boolean index did not match indexed array along dimension 0; dimension is 2499 but corresponding boolean dimension is 2\n",
      "  similarities = similarities[~np.isnan(prefs)]\n",
      "/usr/local/lib/python2.7/dist-packages/scikits/crab/recommenders/knn/classes.py:537: VisibleDeprecationWarning: boolean index did not match indexed array along dimension 0; dimension is 2499 but corresponding boolean dimension is 15\n",
      "  similarities = similarities[~np.isnan(prefs)]\n"
     ]
    }
   ],
   "source": [
    "evaluator = CfEvaluator()\n",
    " \n",
    "rmse = evaluator.evaluate(recsys, 'rmse', permutation=False)\n",
    "#mae = evaluator.evaluate(recsys, 'mae', permutation=False)\n",
    "#nmae = evaluator.evaluate(recsys, 'nmae', permutation=False)\n",
    "#precision = evaluator.evaluate(recsys, 'precision', permutation=False)\n",
    "#recall = evaluator.evaluate(recsys, 'recall', permutation=False)\n",
    "#f1score = evaluator.evaluate(recsys, 'f1score', permutation=False)\n",
    " \n",
    "print f1score\n",
    "#print mae\n",
    "#print nmae\n",
    "#print precision\n",
    "#print recall\n",
    "#print rmse"
   ]
  },
  {
   "cell_type": "code",
   "execution_count": null,
   "metadata": {
    "collapsed": true
   },
   "outputs": [],
   "source": [
    "# Evaluating all metrics at once"
   ]
  },
  {
   "cell_type": "code",
   "execution_count": null,
   "metadata": {
    "collapsed": true
   },
   "outputs": [],
   "source": [
    "all_scores = evaluator.evaluate(recsys, permutation=False)"
   ]
  },
  {
   "cell_type": "code",
   "execution_count": null,
   "metadata": {
    "collapsed": true
   },
   "outputs": [],
   "source": [
    "# Using 70% of data as training set and 30% as test set and evaluating precision and recall at N. Here we keep N = 10.\n",
    "\n",
    "result = evaluator.evaluate(recsys, None, permutation=False, at=10, sampling_ratings=0.7)\n",
    "pprint (result)"
   ]
  },
  {
   "cell_type": "code",
   "execution_count": null,
   "metadata": {
    "collapsed": true
   },
   "outputs": [],
   "source": [
    "# Evaluating with Cross Validation\n",
    "\n",
    "result = evaluator.evaluate_on_split(recsys, 'rmse', permutation=False, at=10, cv=5, sampling_ratings=0.7)\n",
    "pprint (result)"
   ]
  },
  {
   "cell_type": "code",
   "execution_count": null,
   "metadata": {
    "collapsed": true
   },
   "outputs": [],
   "source": []
  },
  {
   "cell_type": "code",
   "execution_count": null,
   "metadata": {
    "collapsed": true
   },
   "outputs": [],
   "source": []
  },
  {
   "cell_type": "code",
   "execution_count": null,
   "metadata": {
    "collapsed": true
   },
   "outputs": [],
   "source": []
  },
  {
   "cell_type": "code",
   "execution_count": null,
   "metadata": {
    "collapsed": true
   },
   "outputs": [],
   "source": []
  }
 ],
 "metadata": {
  "anaconda-cloud": {},
  "kernelspec": {
   "display_name": "Python 2",
   "language": "python",
   "name": "python2"
  },
  "language_info": {
   "codemirror_mode": {
    "name": "ipython",
    "version": 2
   },
   "file_extension": ".py",
   "mimetype": "text/x-python",
   "name": "python",
   "nbconvert_exporter": "python",
   "pygments_lexer": "ipython2",
   "version": "2.7.6"
  }
 },
 "nbformat": 4,
 "nbformat_minor": 1
}
