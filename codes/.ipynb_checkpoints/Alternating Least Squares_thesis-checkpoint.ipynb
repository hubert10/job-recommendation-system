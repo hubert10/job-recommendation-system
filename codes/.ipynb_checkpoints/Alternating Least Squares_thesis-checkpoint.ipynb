{
 "cells": [
  {
   "cell_type": "code",
   "execution_count": 1,
   "metadata": {
    "collapsed": false
   },
   "outputs": [
    {
     "name": "stderr",
     "output_type": "stream",
     "text": [
      "/usr/local/lib/python2.7/dist-packages/matplotlib/font_manager.py:273: UserWarning: Matplotlib is building the font cache using fc-list. This may take a moment.\n",
      "  warnings.warn('Matplotlib is building the font cache using fc-list. This may take a moment.')\n"
     ]
    }
   ],
   "source": [
    "import os\n",
    "import numpy as np\n",
    "import pandas as pd\n",
    "import matplotlib.pyplot as plt\n",
    "%matplotlib inline"
   ]
  },
  {
   "cell_type": "code",
   "execution_count": 2,
   "metadata": {
    "collapsed": false
   },
   "outputs": [
    {
     "name": "stdout",
     "output_type": "stream",
     "text": [
      "1.5.3\n",
      "0.19.2\n",
      "1.11.2\n"
     ]
    }
   ],
   "source": [
    "import matplotlib\n",
    "import pandas\n",
    "import numpy\n",
    "print (matplotlib.__version__)\n",
    "print (pandas.__version__)\n",
    "print (numpy.__version__)"
   ]
  },
  {
   "cell_type": "code",
   "execution_count": 3,
   "metadata": {
    "collapsed": true
   },
   "outputs": [],
   "source": [
    "#Reading ratings file:\n",
    "df = pd.read_csv('/home/nadine/Pictures/Memoir/data/data.csv')"
   ]
  },
  {
   "cell_type": "code",
   "execution_count": 4,
   "metadata": {
    "collapsed": false
   },
   "outputs": [
    {
     "name": "stdout",
     "output_type": "stream",
     "text": [
      " Total Number of users = 2500 | Total Number of jobs = 150\n"
     ]
    },
    {
     "data": {
      "text/plain": [
       "2500"
      ]
     },
     "execution_count": 4,
     "metadata": {},
     "output_type": "execute_result"
    }
   ],
   "source": [
    "n_users = df.UserId.unique().shape[0]\n",
    "n_jobs = df.JobId.unique().shape[0]\n",
    "print (' Total Number of users = ' + str(n_users) + ' | Total Number of jobs = ' + str(n_jobs) )\n",
    "n_users"
   ]
  },
  {
   "cell_type": "code",
   "execution_count": 5,
   "metadata": {
    "collapsed": false
   },
   "outputs": [
    {
     "name": "stderr",
     "output_type": "stream",
     "text": [
      "/usr/local/lib/python2.7/dist-packages/sklearn/cross_validation.py:44: DeprecationWarning: This module was deprecated in version 0.18 in favor of the model_selection module into which all the refactored classes and functions are moved. Also note that the interface of the new CV iterators are different from that of this module. This module will be removed in 0.20.\n",
      "  \"This module will be removed in 0.20.\", DeprecationWarning)\n"
     ]
    }
   ],
   "source": [
    "#from sklearn import cross_validation as cv\n",
    "from sklearn.cross_validation import train_test_split\n",
    "\n",
    "train_data, test_data = train_test_split(df,test_size=0.50, random_state=0)\n",
    "train_data = pd.DataFrame(train_data)\n",
    "test_data = pd.DataFrame(test_data)\n",
    "\n",
    "# Create training and test matrix\n",
    "R = np.zeros((n_users, n_jobs))\n",
    "for line in train_data.itertuples():\n",
    "    R[line[1]-1, line[2]-1] = line[3]  \n",
    "\n",
    "T = np.zeros((n_users, n_jobs))\n",
    "for line in test_data.itertuples():\n",
    "    T[line[1]-1, line[2]-1] = line[3]"
   ]
  },
  {
   "cell_type": "code",
   "execution_count": 6,
   "metadata": {
    "collapsed": true
   },
   "outputs": [],
   "source": [
    "# Index matrix for training data\n",
    "I = R.copy()\n",
    "I[I > 0] = 1\n",
    "I[I == 0] = 0\n",
    "\n",
    "# Index matrix for test data\n",
    "I2 = T.copy()\n",
    "I2[I2 > 0] = 1\n",
    "I2[I2 == 0] = 0"
   ]
  },
  {
   "cell_type": "code",
   "execution_count": 7,
   "metadata": {
    "collapsed": true
   },
   "outputs": [],
   "source": [
    "\n",
    "# Calculate the RMSE\n",
    "def rmse(I,R,Q,P):\n",
    "    return np.sqrt(np.sum((I * (R - np.dot(P.T,Q)))**2)/len(R[R > 0]))"
   ]
  },
  {
   "cell_type": "code",
   "execution_count": 8,
   "metadata": {
    "collapsed": true
   },
   "outputs": [],
   "source": [
    "lmbda = 0.1 # Regularisation weight\n",
    "k = 50 # Dimensionality of latent feature space\n",
    "m, n = R.shape # Number of users and items\n",
    "n_epochs = 100 # Number of epochs\n",
    "\n",
    "P = 3 * np.random.rand(k,m) # Latent user feature matrix\n",
    "Q = 3 * np.random.rand(k,n) # Latent movie feature matrix\n",
    "Q[0,:] = R[R != 0].mean(axis=0) # Avg. rating for each movie\n",
    "E = np.eye(k) # (k x k)-dimensional idendity matrix"
   ]
  },
  {
   "cell_type": "code",
   "execution_count": 9,
   "metadata": {
    "collapsed": false
   },
   "outputs": [
    {
     "name": "stdout",
     "output_type": "stream",
     "text": [
      "[Epoch 1/100] train error: 1.874742, test error: 2.116879\n",
      "[Epoch 2/100] train error: 0.973781, test error: 1.515010\n",
      "[Epoch 3/100] train error: 0.831449, test error: 1.442142\n",
      "[Epoch 4/100] train error: 0.768837, test error: 1.411986\n",
      "[Epoch 5/100] train error: 0.733896, test error: 1.396236\n",
      "[Epoch 6/100] train error: 0.712077, test error: 1.386842\n",
      "[Epoch 7/100] train error: 0.697486, test error: 1.380769\n",
      "[Epoch 8/100] train error: 0.687224, test error: 1.376635\n",
      "[Epoch 9/100] train error: 0.679715, test error: 1.373721\n",
      "[Epoch 10/100] train error: 0.674047, test error: 1.371614\n",
      "[Epoch 11/100] train error: 0.669656, test error: 1.370061\n",
      "[Epoch 12/100] train error: 0.666184, test error: 1.368899\n",
      "[Epoch 13/100] train error: 0.663388, test error: 1.368020\n",
      "[Epoch 14/100] train error: 0.661103, test error: 1.367350\n",
      "[Epoch 15/100] train error: 0.659213, test error: 1.366837\n",
      "[Epoch 16/100] train error: 0.657632, test error: 1.366443\n",
      "[Epoch 17/100] train error: 0.656298, test error: 1.366142\n",
      "[Epoch 18/100] train error: 0.655165, test error: 1.365911\n",
      "[Epoch 19/100] train error: 0.654196, test error: 1.365734\n",
      "[Epoch 20/100] train error: 0.653363, test error: 1.365599\n",
      "[Epoch 21/100] train error: 0.652643, test error: 1.365497\n",
      "[Epoch 22/100] train error: 0.652018, test error: 1.365420\n",
      "[Epoch 23/100] train error: 0.651474, test error: 1.365361\n",
      "[Epoch 24/100] train error: 0.650999, test error: 1.365317\n",
      "[Epoch 25/100] train error: 0.650582, test error: 1.365283\n",
      "[Epoch 26/100] train error: 0.650216, test error: 1.365258\n",
      "[Epoch 27/100] train error: 0.649893, test error: 1.365238\n",
      "[Epoch 28/100] train error: 0.649608, test error: 1.365222\n",
      "[Epoch 29/100] train error: 0.649355, test error: 1.365210\n",
      "[Epoch 30/100] train error: 0.649130, test error: 1.365200\n",
      "[Epoch 31/100] train error: 0.648929, test error: 1.365191\n",
      "[Epoch 32/100] train error: 0.648750, test error: 1.365184\n",
      "[Epoch 33/100] train error: 0.648589, test error: 1.365177\n",
      "[Epoch 34/100] train error: 0.648444, test error: 1.365171\n",
      "[Epoch 35/100] train error: 0.648314, test error: 1.365165\n",
      "[Epoch 36/100] train error: 0.648196, test error: 1.365160\n",
      "[Epoch 37/100] train error: 0.648090, test error: 1.365155\n",
      "[Epoch 38/100] train error: 0.647993, test error: 1.365150\n",
      "[Epoch 39/100] train error: 0.647904, test error: 1.365145\n",
      "[Epoch 40/100] train error: 0.647823, test error: 1.365141\n",
      "[Epoch 41/100] train error: 0.647749, test error: 1.365136\n",
      "[Epoch 42/100] train error: 0.647681, test error: 1.365132\n",
      "[Epoch 43/100] train error: 0.647619, test error: 1.365127\n",
      "[Epoch 44/100] train error: 0.647561, test error: 1.365123\n",
      "[Epoch 45/100] train error: 0.647508, test error: 1.365119\n",
      "[Epoch 46/100] train error: 0.647459, test error: 1.365115\n",
      "[Epoch 47/100] train error: 0.647413, test error: 1.365111\n",
      "[Epoch 48/100] train error: 0.647371, test error: 1.365107\n",
      "[Epoch 49/100] train error: 0.647332, test error: 1.365103\n",
      "[Epoch 50/100] train error: 0.647295, test error: 1.365100\n",
      "[Epoch 51/100] train error: 0.647261, test error: 1.365096\n",
      "[Epoch 52/100] train error: 0.647229, test error: 1.365093\n",
      "[Epoch 53/100] train error: 0.647199, test error: 1.365090\n",
      "[Epoch 54/100] train error: 0.647171, test error: 1.365087\n",
      "[Epoch 55/100] train error: 0.647145, test error: 1.365085\n",
      "[Epoch 56/100] train error: 0.647120, test error: 1.365082\n",
      "[Epoch 57/100] train error: 0.647097, test error: 1.365080\n",
      "[Epoch 58/100] train error: 0.647076, test error: 1.365077\n",
      "[Epoch 59/100] train error: 0.647055, test error: 1.365076\n",
      "[Epoch 60/100] train error: 0.647036, test error: 1.365074\n",
      "[Epoch 61/100] train error: 0.647018, test error: 1.365072\n",
      "[Epoch 62/100] train error: 0.647001, test error: 1.365071\n",
      "[Epoch 63/100] train error: 0.646984, test error: 1.365069\n",
      "[Epoch 64/100] train error: 0.646969, test error: 1.365068\n",
      "[Epoch 65/100] train error: 0.646955, test error: 1.365067\n",
      "[Epoch 66/100] train error: 0.646941, test error: 1.365066\n",
      "[Epoch 67/100] train error: 0.646928, test error: 1.365065\n",
      "[Epoch 68/100] train error: 0.646915, test error: 1.365065\n",
      "[Epoch 69/100] train error: 0.646903, test error: 1.365064\n",
      "[Epoch 70/100] train error: 0.646892, test error: 1.365064\n",
      "[Epoch 71/100] train error: 0.646881, test error: 1.365064\n",
      "[Epoch 72/100] train error: 0.646871, test error: 1.365063\n",
      "[Epoch 73/100] train error: 0.646861, test error: 1.365063\n",
      "[Epoch 74/100] train error: 0.646852, test error: 1.365063\n",
      "[Epoch 75/100] train error: 0.646843, test error: 1.365063\n",
      "[Epoch 76/100] train error: 0.646834, test error: 1.365064\n",
      "[Epoch 77/100] train error: 0.646826, test error: 1.365064\n",
      "[Epoch 78/100] train error: 0.646818, test error: 1.365064\n",
      "[Epoch 79/100] train error: 0.646810, test error: 1.365064\n",
      "[Epoch 80/100] train error: 0.646803, test error: 1.365065\n",
      "[Epoch 81/100] train error: 0.646796, test error: 1.365065\n",
      "[Epoch 82/100] train error: 0.646789, test error: 1.365065\n",
      "[Epoch 83/100] train error: 0.646783, test error: 1.365066\n",
      "[Epoch 84/100] train error: 0.646777, test error: 1.365066\n",
      "[Epoch 85/100] train error: 0.646770, test error: 1.365067\n",
      "[Epoch 86/100] train error: 0.646765, test error: 1.365067\n",
      "[Epoch 87/100] train error: 0.646759, test error: 1.365068\n",
      "[Epoch 88/100] train error: 0.646753, test error: 1.365069\n",
      "[Epoch 89/100] train error: 0.646748, test error: 1.365069\n",
      "[Epoch 90/100] train error: 0.646743, test error: 1.365070\n",
      "[Epoch 91/100] train error: 0.646738, test error: 1.365070\n",
      "[Epoch 92/100] train error: 0.646733, test error: 1.365071\n",
      "[Epoch 93/100] train error: 0.646729, test error: 1.365072\n",
      "[Epoch 94/100] train error: 0.646724, test error: 1.365072\n",
      "[Epoch 95/100] train error: 0.646720, test error: 1.365073\n",
      "[Epoch 96/100] train error: 0.646715, test error: 1.365074\n",
      "[Epoch 97/100] train error: 0.646711, test error: 1.365075\n",
      "[Epoch 98/100] train error: 0.646707, test error: 1.365075\n",
      "[Epoch 99/100] train error: 0.646703, test error: 1.365076\n",
      "[Epoch 100/100] train error: 0.646699, test error: 1.365077\n",
      "Algorithm converged\n"
     ]
    }
   ],
   "source": [
    "train_errors = []\n",
    "test_errors = []\n",
    "\n",
    "# Repeat until convergence\n",
    "for epoch in range(n_epochs):\n",
    "    # Fix Q and estimate P\n",
    "    for i, Ii in enumerate(I):\n",
    "        nui = np.count_nonzero(Ii) # Number of items user i has rated\n",
    "        if (nui == 0): nui = 1 # Be aware of zero counts!\n",
    "    \n",
    "        # Least squares solution\n",
    "        Ai = np.dot(Q, np.dot(np.diag(Ii), Q.T)) + lmbda * nui * E\n",
    "        Vi = np.dot(Q, np.dot(np.diag(Ii), R[i].T))\n",
    "        P[:,i] = np.linalg.solve(Ai,Vi)\n",
    "        \n",
    "    # Fix P and estimate Q\n",
    "    for j, Ij in enumerate(I.T):\n",
    "        nmj = np.count_nonzero(Ij) # Number of users that rated item j\n",
    "        if (nmj == 0): nmj = 1 # Be aware of zero counts!\n",
    "        \n",
    "        # Least squares solution\n",
    "        Aj = np.dot(P, np.dot(np.diag(Ij), P.T)) + lmbda * nmj * E\n",
    "        Vj = np.dot(P, np.dot(np.diag(Ij), R[:,j]))\n",
    "        Q[:,j] = np.linalg.solve(Aj,Vj)\n",
    "    \n",
    "    train_rmse = rmse(I,R,Q,P)\n",
    "    test_rmse = rmse(I2,T,Q,P)\n",
    "    train_errors.append(train_rmse)\n",
    "    test_errors.append(test_rmse)\n",
    "    \n",
    "    print \"[Epoch %d/%d] train error: %f, test error: %f\" \\\n",
    "    %(epoch+1, n_epochs, train_rmse, test_rmse)\n",
    "    \n",
    "print \"Algorithm converged\""
   ]
  },
  {
   "cell_type": "code",
   "execution_count": 10,
   "metadata": {
    "collapsed": false
   },
   "outputs": [
    {
     "data": {
      "image/png": "[encoded data removed]",
      "text/plain": [
       "<matplotlib.figure.Figure at 0x7f04ee0e6f10>"
      ]
     },
     "metadata": {},
     "output_type": "display_data"
    }
   ],
   "source": [
    "# Check performance by plotting train and test errors\n",
    "import matplotlib.pyplot as plt\n",
    "%matplotlib inline\n",
    "\n",
    "plt.plot(range(n_epochs), train_errors, marker='o', label='Training Data');\n",
    "plt.plot(range(n_epochs), test_errors, marker='v', label='Test Data');\n",
    "plt.title('ALS-WR Learning Curve')\n",
    "plt.xlabel('Number of Epochs');\n",
    "plt.ylabel('RMSE');\n",
    "plt.legend()\n",
    "plt.grid()\n",
    "plt.show()"
   ]
  },
  {
   "cell_type": "code",
   "execution_count": 11,
   "metadata": {
    "collapsed": true
   },
   "outputs": [],
   "source": [
    "# Calculate prediction matrix R_hat (low-rank approximation for R)\n",
    "R_hat = pd.DataFrame(np.dot(P.T,Q))\n",
    "R = pd.DataFrame(R)"
   ]
  },
  {
   "cell_type": "code",
   "execution_count": 12,
   "metadata": {
    "collapsed": false,
    "scrolled": true
   },
   "outputs": [
    {
     "data": {
      "text/html": [
       "<div>\n",
       "<table border=\"1\" class=\"dataframe\">\n",
       "  <thead>\n",
       "    <tr style=\"text-align: right;\">\n",
       "      <th></th>\n",
       "      <th>Actual Rating</th>\n",
       "      <th>Predicted Rating</th>\n",
       "    </tr>\n",
       "  </thead>\n",
       "  <tbody>\n",
       "    <tr>\n",
       "      <th>1</th>\n",
       "      <td>3.0</td>\n",
       "      <td>3.041981</td>\n",
       "    </tr>\n",
       "    <tr>\n",
       "      <th>10</th>\n",
       "      <td>4.0</td>\n",
       "      <td>3.664365</td>\n",
       "    </tr>\n",
       "    <tr>\n",
       "      <th>13</th>\n",
       "      <td>3.0</td>\n",
       "      <td>3.254794</td>\n",
       "    </tr>\n",
       "    <tr>\n",
       "      <th>15</th>\n",
       "      <td>5.0</td>\n",
       "      <td>3.919822</td>\n",
       "    </tr>\n",
       "    <tr>\n",
       "      <th>17</th>\n",
       "      <td>3.0</td>\n",
       "      <td>3.066492</td>\n",
       "    </tr>\n",
       "  </tbody>\n",
       "</table>\n",
       "</div>"
      ],
      "text/plain": [
       "    Actual Rating  Predicted Rating\n",
       "1             3.0          3.041981\n",
       "10            4.0          3.664365\n",
       "13            3.0          3.254794\n",
       "15            5.0          3.919822\n",
       "17            3.0          3.066492"
      ]
     },
     "execution_count": 12,
     "metadata": {},
     "output_type": "execute_result"
    }
   ],
   "source": [
    "# Compare true ratings of user 17 with predictions\n",
    "ratings = pd.DataFrame(data=R.loc[26,R.loc[26,:] > 0]).head(n=5)\n",
    "ratings['Prediction'] = R_hat.loc[26,R.loc[26,:] > 0]\n",
    "ratings.columns = ['Actual Rating', 'Predicted Rating']\n",
    "\n",
    "ratings"
   ]
  },
  {
   "cell_type": "code",
   "execution_count": 13,
   "metadata": {
    "collapsed": true
   },
   "outputs": [],
   "source": [
    "# Note that the firtst colomn stands for the job id the user  27 has rated"
   ]
  },
  {
   "cell_type": "code",
   "execution_count": 14,
   "metadata": {
    "collapsed": false
   },
   "outputs": [
    {
     "data": {
      "text/html": [
       "<div>\n",
       "<table border=\"1\" class=\"dataframe\">\n",
       "  <thead>\n",
       "    <tr style=\"text-align: right;\">\n",
       "      <th></th>\n",
       "      <th>Predicted Rating</th>\n",
       "    </tr>\n",
       "  </thead>\n",
       "  <tbody>\n",
       "    <tr>\n",
       "      <th>41</th>\n",
       "      <td>4.732984</td>\n",
       "    </tr>\n",
       "    <tr>\n",
       "      <th>38</th>\n",
       "      <td>4.376420</td>\n",
       "    </tr>\n",
       "    <tr>\n",
       "      <th>7</th>\n",
       "      <td>4.005808</td>\n",
       "    </tr>\n",
       "    <tr>\n",
       "      <th>116</th>\n",
       "      <td>4.001769</td>\n",
       "    </tr>\n",
       "    <tr>\n",
       "      <th>12</th>\n",
       "      <td>3.923685</td>\n",
       "    </tr>\n",
       "  </tbody>\n",
       "</table>\n",
       "</div>"
      ],
      "text/plain": [
       "     Predicted Rating\n",
       "41           4.732984\n",
       "38           4.376420\n",
       "7            4.005808\n",
       "116          4.001769\n",
       "12           3.923685"
      ]
     },
     "execution_count": 14,
     "metadata": {},
     "output_type": "execute_result"
    }
   ],
   "source": [
    "predictions = R_hat.loc[26,R.loc[26,:] == 0] # Predictions for jobs that the user 27 hasn't rated yet\n",
    "top5 = predictions.sort_values(ascending=False).head(n=5)\n",
    "recommendations = pd.DataFrame(data=top5)\n",
    "recommendations.columns = ['Predicted Rating']\n",
    "\n",
    "recommendations"
   ]
  },
  {
   "cell_type": "code",
   "execution_count": null,
   "metadata": {
    "collapsed": true
   },
   "outputs": [],
   "source": []
  }
 ],
 "metadata": {
  "anaconda-cloud": {},
  "kernelspec": {
   "display_name": "Python 2",
   "language": "python",
   "name": "python2"
  },
  "language_info": {
   "codemirror_mode": {
    "name": "ipython",
    "version": 2
   },
   "file_extension": ".py",
   "mimetype": "text/x-python",
   "name": "python",
   "nbconvert_exporter": "python",
   "pygments_lexer": "ipython2",
   "version": "2.7.6"
  }
 },
 "nbformat": 4,
 "nbformat_minor": 1
}
