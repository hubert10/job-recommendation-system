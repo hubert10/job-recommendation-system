{
 "cells": [
  {
   "cell_type": "code",
   "execution_count": 1,
   "metadata": {
    "collapsed": true
   },
   "outputs": [],
   "source": [
    "# http://muricoca.github.io/crab/tutorial.html#introducing-recommendation-engines"
   ]
  },
  {
   "cell_type": "code",
   "execution_count": 2,
   "metadata": {
    "collapsed": false
   },
   "outputs": [],
   "source": [
    "import random \n",
    "import csv\n",
    "\n",
    "dataset = {} # define a dictionary\n",
    "with open('/home/nadine/Pictures/Memoir/data/data.csv') as myfile:     \n",
    "    reader = csv.DictReader(myfile, delimiter=',')    \n",
    "    i = 0    \n",
    "    for line in reader:            \n",
    "        i += 1\n",
    "        if (i == 1):\n",
    "            continue    \n",
    "        \n",
    "        if (int(line['UserId']) not in dataset):\n",
    "            dataset[int(line['UserId'])] = {}\n",
    "            \n",
    "        dataset[int(line['UserId'])][int(line['JobId'])] = float(line['Rating'])"
   ]
  },
  {
   "cell_type": "code",
   "execution_count": 3,
   "metadata": {
    "collapsed": false
   },
   "outputs": [
    {
     "ename": "ImportError",
     "evalue": "No module named scikits.crab.models",
     "output_type": "error",
     "traceback": [
      "\u001b[0;31m---------------------------------------------------------------------------\u001b[0m",
      "\u001b[0;31mImportError\u001b[0m                               Traceback (most recent call last)",
      "\u001b[0;32m<ipython-input-3-4d1e453af874>\u001b[0m in \u001b[0;36m<module>\u001b[0;34m()\u001b[0m\n\u001b[1;32m      1\u001b[0m \u001b[0;31m#Create a Data Model\u001b[0m\u001b[0;34m\u001b[0m\u001b[0;34m\u001b[0m\u001b[0m\n\u001b[1;32m      2\u001b[0m \u001b[0;34m\u001b[0m\u001b[0m\n\u001b[0;32m----> 3\u001b[0;31m \u001b[0;32mfrom\u001b[0m \u001b[0mscikits\u001b[0m\u001b[0;34m.\u001b[0m\u001b[0mcrab\u001b[0m\u001b[0;34m.\u001b[0m\u001b[0mmodels\u001b[0m \u001b[0;32mimport\u001b[0m \u001b[0mMatrixPreferenceDataModel\u001b[0m\u001b[0;34m\u001b[0m\u001b[0m\n\u001b[0m\u001b[1;32m      4\u001b[0m \u001b[0mmodel\u001b[0m \u001b[0;34m=\u001b[0m \u001b[0mMatrixPreferenceDataModel\u001b[0m\u001b[0;34m(\u001b[0m\u001b[0mdataset\u001b[0m\u001b[0;34m)\u001b[0m\u001b[0;34m\u001b[0m\u001b[0m\n",
      "\u001b[0;31mImportError\u001b[0m: No module named scikits.crab.models"
     ]
    }
   ],
   "source": [
    "#Create a Data Model\n",
    "\n",
    "from scikits.crab.models import MatrixPreferenceDataModel\n",
    "model = MatrixPreferenceDataModel(dataset)"
   ]
  },
  {
   "cell_type": "code",
   "execution_count": null,
   "metadata": {
    "collapsed": true
   },
   "outputs": [],
   "source": [
    "# Creating Similarity\n",
    "from scikits.crab.metrics import pearson_correlation, euclidean_distances, jaccard_coefficient, cosine_distances\n",
    "from scikits.crab.similarities import UserSimilarity"
   ]
  },
  {
   "cell_type": "code",
   "execution_count": null,
   "metadata": {
    "collapsed": false
   },
   "outputs": [],
   "source": [
    "model"
   ]
  },
  {
   "cell_type": "code",
   "execution_count": null,
   "metadata": {
    "collapsed": false
   },
   "outputs": [],
   "source": [
    "##User-based Similarity\n",
    "\n",
    "similarity1 = UserSimilarity(model, euclidean_distances, 3)\n",
    "similarity2 = UserSimilarity(model, cosine_distances)\n",
    "similarity3 = UserSimilarity(model, jaccard_coefficient)\n",
    "similarity4 = UserSimilarity(model, pearson_correlation)\n"
   ]
  },
  {
   "cell_type": "code",
   "execution_count": null,
   "metadata": {
    "collapsed": false
   },
   "outputs": [],
   "source": [
    "# Building Recommender System\n",
    "from scikits.crab.recommenders.knn import UserBasedRecommender\n",
    "#from scikits.crab.neighborhood_strategies import AllNeighborsStrategy, NearestNeighborsStrategy\n",
    "from scikits.crab.recommenders.knn.neighborhood_strategies import NearestNeighborsStrategy"
   ]
  },
  {
   "cell_type": "code",
   "execution_count": null,
   "metadata": {
    "collapsed": true
   },
   "outputs": [],
   "source": [
    "# Neighborhood Strategy\n",
    "neighborhood = NearestNeighborsStrategy()"
   ]
  },
  {
   "cell_type": "code",
   "execution_count": null,
   "metadata": {
    "collapsed": false
   },
   "outputs": [],
   "source": [
    "recsys = UserBasedRecommender(model, similarity3, neighborhood)\n",
    "print  recsys"
   ]
  },
  {
   "cell_type": "code",
   "execution_count": null,
   "metadata": {
    "collapsed": true
   },
   "outputs": [],
   "source": [
    "# Evaluation\n",
    "## Root Mean Square Error (RMSE), Mean Absolute Error (MAE), Normalized Mean Absolute Error (NMAE), Precision, Recall, and F1 Score."
   ]
  },
  {
   "cell_type": "code",
   "execution_count": null,
   "metadata": {
    "collapsed": false
   },
   "outputs": [],
   "source": [
    "# Evaluating each metric separately\n",
    "from scikits.crab.metrics.classes import CfEvaluator\n"
   ]
  },
  {
   "cell_type": "code",
   "execution_count": null,
   "metadata": {
    "collapsed": false
   },
   "outputs": [],
   "source": [
    "evaluator = CfEvaluator()\n",
    " \n",
    "rmse = evaluator.evaluate(recsys, 'rmse', permutation=False)\n",
    "mae = evaluator.evaluate(recsys, 'mae', permutation=False)\n",
    "#nmae = evaluator.evaluate(recsys, 'nmae', permutation=False)\n",
    "#precision = evaluator.evaluate(recsys, 'precision', permutation=False)\n",
    "#recall = evaluator.evaluate(recsys, 'recall', permutation=False)\n",
    "#f1score = evaluator.evaluate(recsys, 'f1score', permutation=False)\n",
    " \n",
    "print f1score\n",
    "print mae\n",
    "#print nmae\n",
    "#print precision\n",
    "#print recall\n",
    "#print rmse"
   ]
  },
  {
   "cell_type": "code",
   "execution_count": null,
   "metadata": {
    "collapsed": true
   },
   "outputs": [],
   "source": [
    "# Evaluating all metrics at once"
   ]
  },
  {
   "cell_type": "code",
   "execution_count": null,
   "metadata": {
    "collapsed": true
   },
   "outputs": [],
   "source": [
    "all_scores = evaluator.evaluate(recsys, permutation=False)"
   ]
  },
  {
   "cell_type": "code",
   "execution_count": null,
   "metadata": {
    "collapsed": true
   },
   "outputs": [],
   "source": [
    "# Using 70% of data as training set and 30% as test set and evaluating precision and recall at N. Here we keep N = 10.\n",
    "\n",
    "result = evaluator.evaluate(recsys, None, permutation=False, at=10, sampling_ratings=0.7)\n",
    "pprint (result)"
   ]
  },
  {
   "cell_type": "code",
   "execution_count": null,
   "metadata": {
    "collapsed": true
   },
   "outputs": [],
   "source": [
    "# Evaluating with Cross Validation\n",
    "\n",
    "result = evaluator.evaluate_on_split(recsys, 'rmse', permutation=False, at=10, cv=5, sampling_ratings=0.7)\n",
    "pprint (result)"
   ]
  },
  {
   "cell_type": "code",
   "execution_count": null,
   "metadata": {
    "collapsed": true
   },
   "outputs": [],
   "source": []
  }
 ],
 "metadata": {
  "anaconda-cloud": {},
  "kernelspec": {
   "display_name": "Python 2",
   "language": "python",
   "name": "python2"
  },
  "language_info": {
   "codemirror_mode": {
    "name": "ipython",
    "version": 2
   },
   "file_extension": ".py",
   "mimetype": "text/x-python",
   "name": "python",
   "nbconvert_exporter": "python",
   "pygments_lexer": "ipython2",
   "version": "2.7.6"
  }
 },
 "nbformat": 4,
 "nbformat_minor": 1
}
