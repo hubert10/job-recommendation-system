{
 "cells": [
  {
   "cell_type": "code",
   "execution_count": 1,
   "metadata": {
    "collapsed": false
   },
   "outputs": [
    {
     "name": "stderr",
     "output_type": "stream",
     "text": [
      "/usr/local/lib/python2.7/dist-packages/matplotlib/font_manager.py:273: UserWarning: Matplotlib is building the font cache using fc-list. This may take a moment.\n",
      "  warnings.warn('Matplotlib is building the font cache using fc-list. This may take a moment.')\n"
     ]
    }
   ],
   "source": [
    "import os\n",
    "import numpy as np\n",
    "import pandas as pd\n",
    "import matplotlib.pyplot as plt\n",
    "%matplotlib inline"
   ]
  },
  {
   "cell_type": "code",
   "execution_count": 2,
   "metadata": {
    "collapsed": false
   },
   "outputs": [
    {
     "name": "stdout",
     "output_type": "stream",
     "text": [
      "1.5.3\n",
      "0.19.2\n",
      "1.11.2\n"
     ]
    }
   ],
   "source": [
    "import matplotlib\n",
    "import pandas\n",
    "import numpy\n",
    "print (matplotlib.__version__)\n",
    "print (pandas.__version__)\n",
    "print (numpy.__version__)"
   ]
  },
  {
   "cell_type": "code",
   "execution_count": 3,
   "metadata": {
    "collapsed": true
   },
   "outputs": [],
   "source": [
    "#Reading ratings file:\n",
    "u1 = pd.read_csv('/home/serge/Desktop/Kanye/Hubert/Memoir/data/data/data.csv')"
   ]
  },
  {
   "cell_type": "code",
   "execution_count": 4,
   "metadata": {
    "collapsed": false
   },
   "outputs": [
    {
     "name": "stderr",
     "output_type": "stream",
     "text": [
      "/usr/local/lib/python2.7/dist-packages/sklearn/cross_validation.py:44: DeprecationWarning: This module was deprecated in version 0.18 in favor of the model_selection module into which all the refactored classes and functions are moved. Also note that the interface of the new CV iterators are different from that of this module. This module will be removed in 0.20.\n",
      "  \"This module will be removed in 0.20.\", DeprecationWarning)\n"
     ]
    }
   ],
   "source": [
    "#from sklearn.cross_validation import train_test_split\n",
    "from sklearn import cross_validation as cv\n",
    "u1.base, u1.test = cv.train_test_split(u1,test_size=0.30, random_state=0)\n"
   ]
  },
  {
   "cell_type": "code",
   "execution_count": 6,
   "metadata": {
    "collapsed": false
   },
   "outputs": [
    {
     "name": "stdout",
     "output_type": "stream",
     "text": [
      "('recall', 'precision', 'f1')\n",
      "(0.0974, 0.20657476139978792, 0.13238192320761127)\n",
      "(0.09955, 0.21113467656415694, 0.13530411145090046)\n",
      "(0.0997, 0.2114528101802757, 0.13550798504926945)\n",
      "(0.09905, 0.21007423117709437, 0.1346245327896704)\n",
      "(0.0981, 0.2080593849416755, 0.13333333333333336)\n",
      "--- 607.29916811 seconds ---\n"
     ]
    }
   ],
   "source": [
    "from __future__ import division\n",
    "from math import sqrt\n",
    "import time\n",
    "\n",
    "\n",
    "class UserBasedCF:\n",
    "\n",
    "    def __init__(self, train_file, test_file):\n",
    "        self.train_file = train_file\n",
    "        self.test_file = test_file\n",
    "        self.readData()\n",
    "        self.userSimilarity()\n",
    "\n",
    "    def readData(self):\n",
    "        self.train, self.test = {}, {}\n",
    "        for line in open(self.train_file):\n",
    "            user, item, score, _ = line.strip().split(\"\\t\")\n",
    "            self.train.setdefault(user, {})\n",
    "            self.train[user][item] = int(score)\n",
    "        for line in open(self.test_file):\n",
    "            user, item, score, _ = line.strip().split(\"\\t\")\n",
    "            self.test.setdefault(user, {})\n",
    "            self.test[user][item] = int(score)\n",
    "\n",
    "    def userSimilarity(self):\n",
    "        # Build invese table for item_users\n",
    "        self.item_users = {}\n",
    "        for u, items in self.train.iteritems():\n",
    "            for i in items.keys():\n",
    "                if i not in self.item_users:\n",
    "                    self.item_users[i] = set()\n",
    "                self.item_users[i].add(u)\n",
    "\n",
    "        C, N = {}, {}\n",
    "        for i, users in self.item_users.iteritems():\n",
    "            for u in users:\n",
    "                N.setdefault(u, 0)\n",
    "                N[u] += 1\n",
    "                C.setdefault(u, {})\n",
    "                for v in users:\n",
    "                    if u == v:\n",
    "                        continue\n",
    "                    C[u].setdefault(v, 0)\n",
    "                    C[u][v] += 1\n",
    "\n",
    "        self.W = {}\n",
    "        # Calculate finial similarity matrix W\n",
    "        for u, related_users in C.iteritems():\n",
    "            self.W.setdefault(u, {})\n",
    "            for v, cuv in related_users.iteritems():\n",
    "                self.W[u][v] = cuv / sqrt(N[u] * N[v])\n",
    "\n",
    "    def recommend(self, user, K=3, N=10):\n",
    "        rank = {}\n",
    "        interacted_items = self.train[user]\n",
    "        for v, wuv in sorted(self.W[user].items(),\n",
    "                             key=lambda x: x[1], reverse=True)[0:K]:\n",
    "            for i, rvi in self.train[v].items():\n",
    "                if i in interacted_items:\n",
    "                    # filter items user interacted before\n",
    "                    continue\n",
    "                rank.setdefault(i, 0)\n",
    "                rank[i] += wuv * rvi\n",
    "\n",
    "        return dict(sorted(rank.items(),\n",
    "                           key=lambda x: x[1], reverse=True)[0:N])\n",
    "\n",
    "    def evaluate(self, train=None, test=None, K=3, N=10):\n",
    "        train = self.train\n",
    "        test = self.test\n",
    "        hit, recall, precision = 0, 0, 0\n",
    "        for user in train.keys():\n",
    "            tu = test.get(user, {})\n",
    "            rank = self.recommend(user, K=K, N=N)\n",
    "            for i, _ in rank.items():\n",
    "                if i in tu:\n",
    "                    hit += 1\n",
    "            recall += len(tu)\n",
    "            precision += N\n",
    "        recall = hit / recall\n",
    "        precision = hit / precision\n",
    "        f = 2 * recall * precision / (precision + recall)\n",
    "        return (recall, precision, f)\n",
    "\n",
    "\n",
    "class ItemBasedCF:\n",
    "\n",
    "    def __init__(self, train_file, test_file):\n",
    "        self.train_file = train_file\n",
    "        self.test_file = test_file\n",
    "        self.readData()\n",
    "        self.itemSimilarity()\n",
    "\n",
    "    def readData(self):\n",
    "        self.train, self.test = {}, {}\n",
    "        for line in open(self.train_file):\n",
    "            user, item, score, _ = line.strip().split(\"\\t\")\n",
    "            self.train.setdefault(user, {})\n",
    "            self.train[user][item] = int(score)\n",
    "        for line in open(self.test_file):\n",
    "            user, item, score, _ = line.strip().split(\"\\t\")\n",
    "            self.test.setdefault(user, {})\n",
    "            self.test[user][item] = int(score)\n",
    "\n",
    "    def itemSimilarity(self):\n",
    "        C = dict()  \n",
    "        N = dict()\n",
    "        for user, items in self.train.items():\n",
    "            for i in items.keys():\n",
    "                N.setdefault(i, 0)\n",
    "                N[i] += 1\n",
    "                C.setdefault(i, {})\n",
    "                for j in items.keys():\n",
    "                    if i == j:\n",
    "                        continue\n",
    "                    C[i].setdefault(j, 0)\n",
    "                    C[i][j] += 1\n",
    "        self.W = {}\n",
    "        for i, related_items in C.items():\n",
    "            self.W.setdefault(i, {})\n",
    "            for j, cij in related_items.items():\n",
    "                self.W[i][j] = cij / (sqrt(N[i] * N[j]))\n",
    "        return self.W\n",
    "\n",
    "    def recommend(self, user, K=3, N=10):\n",
    "        rank = dict()\n",
    "        interacted_items = self.train[user]\n",
    "        for item, score in interacted_items.iteritems():\n",
    "            for j, wj in sorted(self.W[item].iteritems(),\n",
    "                                key=lambda x: x[1], reverse=True)[0:K]:\n",
    "                if j in interacted_items.keys():\n",
    "                    continue\n",
    "                rank.setdefault(j, 0)\n",
    "                rank[j] += score * wj\n",
    "        return dict(sorted(rank.items(),\n",
    "                           key=lambda x: x[1], reverse=True)[0:N])\n",
    "\n",
    "    def evaluate(self, train=None, test=None, K=3, N=10):\n",
    "        train = self.train\n",
    "        test = self.test\n",
    "        hit, recall, precision = 0, 0, 0\n",
    "        for user in train.keys():\n",
    "            tu = test.get(user, {})\n",
    "            rank = self.recommend(user, K=K, N=N)\n",
    "            for i, _ in rank.items():\n",
    "                if i in tu:\n",
    "                    hit += 1\n",
    "            recall += len(tu)\n",
    "            precision += N\n",
    "        recall = hit / recall\n",
    "        precision = hit / precision\n",
    "        f = 2 * recall * precision / (precision + recall)\n",
    "        return (recall, precision, f)\n",
    "\n",
    "if __name__ == '__main__':\n",
    "    start_time = time.time()\n",
    "\n",
    "    # choose which method to use\n",
    "    # model = UserBasedCF('u1.base', 'u1.test')\n",
    "    model = ItemBasedCF('u1.base', 'u1.test')\n",
    "\n",
    "    # The performance of model under various K\n",
    "    klst = [5, 10, 15, 20, 25]\n",
    "    print(\"recall\", \"precision\", \"f1\")\n",
    "    for k in klst:\n",
    "        print model.evaluate(train='u1.base', test='u1.test', K=k)\n",
    "    print(\"--- %s seconds ---\" % (time.time() - start_time))"
   ]
  },
  {
   "cell_type": "code",
   "execution_count": null,
   "metadata": {
    "collapsed": true
   },
   "outputs": [],
   "source": []
  },
  {
   "cell_type": "code",
   "execution_count": null,
   "metadata": {
    "collapsed": true
   },
   "outputs": [],
   "source": []
  },
  {
   "cell_type": "code",
   "execution_count": null,
   "metadata": {
    "collapsed": true
   },
   "outputs": [],
   "source": []
  }
 ],
 "metadata": {
  "anaconda-cloud": {},
  "kernelspec": {
   "display_name": "Python [default]",
   "language": "python",
   "name": "python2"
  },
  "language_info": {
   "codemirror_mode": {
    "name": "ipython",
    "version": 2
   },
   "file_extension": ".py",
   "mimetype": "text/x-python",
   "name": "python",
   "nbconvert_exporter": "python",
   "pygments_lexer": "ipython2",
   "version": "2.7.12"
  }
 },
 "nbformat": 4,
 "nbformat_minor": 1
}
