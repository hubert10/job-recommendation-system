{
 "cells": [
  {
   "cell_type": "code",
   "execution_count": 1,
   "metadata": {
    "collapsed": true
   },
   "outputs": [],
   "source": [
    "import random \n",
    "import csv\n",
    " \n",
    "fieldnames = ['user_id', 'item_id', 'star_rating']\n",
    "with open('/home/nadine/Downloads/dataset-recsys.csv', \"w\") as myfile: # writing data to new csv file\n",
    "    writer = csv.DictWriter(myfile, delimiter = ',', fieldnames = fieldnames)    \n",
    "    writer.writeheader()    \n",
    "    \n",
    "    for x in range(1, 21):\n",
    "        items = random.sample(list(range(1, 41)), 20)\n",
    "        random.randint(1,5)\n",
    "        for item in items:        \n",
    "            writer.writerow({'user_id': x, 'item_id': item, 'star_rating': random.randint(1, 5)})"
   ]
  },
  {
   "cell_type": "code",
   "execution_count": 4,
   "metadata": {
    "collapsed": false
   },
   "outputs": [
    {
     "name": "stdout",
     "output_type": "stream",
     "text": [
      "Loading /home/nadine/Downloads/dataset-recsys.csv\n",
      "Error (ID is not int) while reading: [u'user_id', u'item_id', u'star_rating']\n",
      "\n"
     ]
    },
    {
     "data": {
      "text/plain": [
       "400 rows.\n",
       "E.g: (1.0, 1, 1)"
      ]
     },
     "execution_count": 4,
     "metadata": {},
     "output_type": "execute_result"
    }
   ],
   "source": [
    "import recsys.algorithm\n",
    "recsys.algorithm.VERBOSE = True\n",
    " \n",
    "from recsys.algorithm.factorize import SVD\n",
    "svd = SVD()\n",
    "svd.load_data(filename='/home/nadine/Downloads/dataset-recsys.csv', sep=',', format={'col':0, 'row':1, 'value':2, 'ids': int})\n",
    "svd"
   ]
  },
  {
   "cell_type": "code",
   "execution_count": 6,
   "metadata": {
    "collapsed": false
   },
   "outputs": [
    {
     "ename": "AttributeError",
     "evalue": "'SVD' object has no attribute 'split_train_test'",
     "output_type": "error",
     "traceback": [
      "\u001b[0;31m---------------------------------------------------------------------------\u001b[0m",
      "\u001b[0;31mAttributeError\u001b[0m                            Traceback (most recent call last)",
      "\u001b[0;32m<ipython-input-6-6f87a5f25e64>\u001b[0m in \u001b[0;36m<module>\u001b[0;34m()\u001b[0m\n\u001b[0;32m----> 1\u001b[0;31m \u001b[0mtrain\u001b[0m\u001b[0;34m,\u001b[0m \u001b[0mtest\u001b[0m \u001b[0;34m=\u001b[0m \u001b[0msvd\u001b[0m\u001b[0;34m.\u001b[0m\u001b[0msplit_train_test\u001b[0m\u001b[0;34m(\u001b[0m\u001b[0mpercent\u001b[0m\u001b[0;34m=\u001b[0m\u001b[0;36m70\u001b[0m\u001b[0;34m)\u001b[0m \u001b[0;31m# 70% train, 30% test\u001b[0m\u001b[0;34m\u001b[0m\u001b[0m\n\u001b[0m",
      "\u001b[0;31mAttributeError\u001b[0m: 'SVD' object has no attribute 'split_train_test'"
     ]
    }
   ],
   "source": [
    "train, test = svd.split_train_test(percent=70) # 70% train, 30% test"
   ]
  },
  {
   "cell_type": "code",
   "execution_count": null,
   "metadata": {
    "collapsed": true
   },
   "outputs": [],
   "source": []
  }
 ],
 "metadata": {
  "kernelspec": {
   "display_name": "Python 2",
   "language": "python",
   "name": "python2"
  },
  "language_info": {
   "codemirror_mode": {
    "name": "ipython",
    "version": 2
   },
   "file_extension": ".py",
   "mimetype": "text/x-python",
   "name": "python",
   "nbconvert_exporter": "python",
   "pygments_lexer": "ipython2",
   "version": "2.7.6"
  }
 },
 "nbformat": 4,
 "nbformat_minor": 1
}
