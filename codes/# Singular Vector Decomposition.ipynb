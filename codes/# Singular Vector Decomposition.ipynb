{
 "cells": [
  {
   "cell_type": "code",
   "execution_count": 1,
   "metadata": {
    "collapsed": true
   },
   "outputs": [],
   "source": [
    "# Link: http://blog.chapagain.com.np/recommender-system-using-python-python-recsys/"
   ]
  },
  {
   "cell_type": "code",
   "execution_count": 2,
   "metadata": {},
   "outputs": [],
   "source": [
    "# Singular Vector Decomposition\n",
    "\n",
    "import random \n",
    "import csv\n",
    "\n",
    "\n",
    "fieldnames = ['UserId', 'JobId', 'Rating']\n",
    "with open('/home/leclaire/Bureau/Kanye/Hubert/Memoir/data/data/data.csv', \"w\") as myfile: # writing data to new csv file\n",
    "    writer = csv.DictWriter(myfile, delimiter = ',', fieldnames = fieldnames)    \n",
    "    writer.writeheader()    \n",
    "    \n",
    "    for x in range(1, 21):\n",
    "        items = random.sample(list(range(1, 41)), 20)\n",
    "        random.randint(1,5)\n",
    "        for item in items:        \n",
    "            writer.writerow({'UserId': x, 'JobId': item, 'Rating': random.randint(1, 5)})\n"
   ]
  },
  {
   "cell_type": "code",
   "execution_count": 3,
   "metadata": {},
   "outputs": [
    {
     "ename": "ImportError",
     "evalue": "No module named recsys.algorithm",
     "output_type": "error",
     "traceback": [
      "\u001b[0;31m---------------------------------------------------------------------------\u001b[0m",
      "\u001b[0;31mImportError\u001b[0m                               Traceback (most recent call last)",
      "\u001b[0;32m<ipython-input-3-d2c5536bbe67>\u001b[0m in \u001b[0;36m<module>\u001b[0;34m()\u001b[0m\n\u001b[1;32m      1\u001b[0m \u001b[0;31m#  Creating a Data Model\u001b[0m\u001b[0;34m\u001b[0m\u001b[0;34m\u001b[0m\u001b[0m\n\u001b[1;32m      2\u001b[0m \u001b[0;32mimport\u001b[0m \u001b[0msys\u001b[0m\u001b[0;34m\u001b[0m\u001b[0m\n\u001b[0;32m----> 3\u001b[0;31m \u001b[0;32mimport\u001b[0m \u001b[0mrecsys\u001b[0m\u001b[0;34m.\u001b[0m\u001b[0malgorithm\u001b[0m\u001b[0;34m\u001b[0m\u001b[0m\n\u001b[0m\u001b[1;32m      4\u001b[0m \u001b[0;32mimport\u001b[0m \u001b[0mrecsys\u001b[0m\u001b[0;34m.\u001b[0m\u001b[0malgorithm\u001b[0m\u001b[0;34m.\u001b[0m\u001b[0mfactorize\u001b[0m \u001b[0;32mas\u001b[0m \u001b[0mSVD\u001b[0m\u001b[0;34m\u001b[0m\u001b[0m\n\u001b[1;32m      5\u001b[0m \u001b[0;32mfrom\u001b[0m \u001b[0mrecsys\u001b[0m\u001b[0;34m.\u001b[0m\u001b[0malgorithm\u001b[0m\u001b[0;34m.\u001b[0m\u001b[0mfactorize\u001b[0m \u001b[0;32mimport\u001b[0m \u001b[0mSVD\u001b[0m\u001b[0;34m\u001b[0m\u001b[0m\n",
      "\u001b[0;31mImportError\u001b[0m: No module named recsys.algorithm"
     ]
    }
   ],
   "source": [
    "#  Creating a Data Model\n",
    "import sys\n",
    "import recsys.algorithm\n",
    "import recsys.algorithm.factorize as SVD\n",
    "from recsys.algorithm.factorize import SVD\n",
    "from recsys.datamodel.data import Data\n",
    "from recsys.evaluation.prediction import RMSE, MAE\n",
    "import pandas as pd\n",
    "recsys.algorithm.VERBOSE = True\n",
    " \n",
    "#from recsys.algorithm.factorize import SVD\n",
    "#svd = SVD()\n",
    "#data = svd.load_data(filename='/home/nadine/Desktop/Memoir/data/data.csv', sep=',', format={'col':0, 'row':1, 'value':2, 'ids': int})"
   ]
  },
  {
   "cell_type": "code",
   "execution_count": null,
   "metadata": {
    "collapsed": true
   },
   "outputs": [],
   "source": [
    "from recsys.algorithm.factorize import SVD\n",
    "from recsys.datamodel.data import Data\n",
    "from recsys.evaluation.prediction import RMSE, MAE\n",
    "from recsys.evaluation.decision import PrecisionRecallF1\n",
    "from recsys.evaluation.ranking import SpearmanRho, KendallTau"
   ]
  },
  {
   "cell_type": "code",
   "execution_count": null,
   "metadata": {},
   "outputs": [],
   "source": [
    "#Dataset\n",
    "PERCENT_TRAIN = 70\n",
    "data = Data()\n",
    "data.load('/home/leclaire/Bureau/Kanye/Hubert/Memoir/data/data/data.csv', sep=',', format={'col':0, 'row':1, 'value':2, 'ids':int})"
   ]
  },
  {
   "cell_type": "code",
   "execution_count": null,
   "metadata": {},
   "outputs": [],
   "source": [
    "train, test = data.split_train_test(percent=70) # 70% train, 30% test"
   ]
  },
  {
   "cell_type": "code",
   "execution_count": null,
   "metadata": {},
   "outputs": [],
   "source": [
    "print train, test, data"
   ]
  },
  {
   "cell_type": "code",
   "execution_count": null,
   "metadata": {},
   "outputs": [],
   "source": [
    "#Create SVD\n",
    "K=100\n",
    "svd = SVD()\n",
    "svd.set_data(train)\n",
    " \n",
    "svd.compute(k=K, min_values=1, pre_normalize=None, mean_center=True, post_normalize=True)"
   ]
  },
  {
   "cell_type": "code",
   "execution_count": null,
   "metadata": {},
   "outputs": [],
   "source": [
    "print ''\n",
    "print 'COMPUTING SIMILARITY'\n",
    "print svd.similarity(1, 2) # similarity between items\n",
    "print svd.similar(1, 5) # show 5 similar items\n",
    " \n",
    "print ''\n",
    "print 'GENERATING PREDICTION'\n",
    "MIN_RATING = 1.0  # Ratings between 1-5\n",
    "MAX_RATING = 5.0\n",
    "ITEMID = 27\n",
    "USERID = 27\n",
    "print svd.predict(ITEMID, USERID, MIN_RATING, MAX_RATING) # predicted rating value\n",
    "print svd.get_matrix().value(ITEMID, USERID) # real rating value\n",
    " \n",
    "print ''\n",
    "print 'GENERATING RECOMMENDATION'\n",
    "print svd.recommend(USERID, n=5, only_unknowns=True, is_row=False) \n",
    "# Recommend items to a user that he/she hasn’t rated before."
   ]
  },
  {
   "cell_type": "code",
   "execution_count": null,
   "metadata": {},
   "outputs": [],
   "source": [
    "#Evaluation using prediction-based metrics\n",
    "rmse = RMSE()\n",
    "mae = MAE()\n",
    "spearman = SpearmanRho()\n",
    "kendall = KendallTau()\n",
    "decision = PrecisionRecallF1()\n",
    "for rating, item_id, user_id in test.get():\n",
    "    try:\n",
    "        pred_rating = svd.predict(item_id, user_id)\n",
    "        rmse.add(rating, pred_rating)\n",
    "        mae.add(rating, pred_rating)\n",
    "        spearman.add(rating, pred_rating)\n",
    "        kendall.add(rating, pred_rating)         \n",
    "    except KeyError:\n",
    "        continue\n",
    " \n",
    "print ''\n",
    "print 'EVALUATION RESULT'\n",
    "print 'RMSE=%s' % rmse.compute()\n",
    "print 'MAE=%s' % mae.compute()\n",
    "print 'Spearman\\'s rho=%s' % spearman.compute()\n",
    "print 'Kendall-tau=%s' % kendall.compute()\n",
    "#print decision.compute()\n",
    "print ''"
   ]
  },
  {
   "cell_type": "code",
   "execution_count": null,
   "metadata": {
    "collapsed": true
   },
   "outputs": [],
   "source": []
  },
  {
   "cell_type": "code",
   "execution_count": null,
   "metadata": {
    "collapsed": true
   },
   "outputs": [],
   "source": []
  }
 ],
 "metadata": {
  "kernelspec": {
   "display_name": "Python 3",
   "language": "python",
   "name": "python3"
  },
  "language_info": {
   "codemirror_mode": {
    "name": "ipython",
    "version": 3
   },
   "file_extension": ".py",
   "mimetype": "text/x-python",
   "name": "python",
   "nbconvert_exporter": "python",
   "pygments_lexer": "ipython3",
   "version": "3.7.4"
  }
 },
 "nbformat": 4,
 "nbformat_minor": 1
}
