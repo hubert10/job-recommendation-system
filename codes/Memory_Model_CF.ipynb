{
 "cells": [
  {
   "cell_type": "code",
   "execution_count": 1,
   "metadata": {
    "collapsed": false
   },
   "outputs": [],
   "source": [
    "import os\n",
    "import numpy as np\n",
    "import pandas as pd\n",
    "import matplotlib.pyplot as plt\n",
    "%matplotlib inline"
   ]
  },
  {
   "cell_type": "code",
   "execution_count": 2,
   "metadata": {
    "collapsed": false
   },
   "outputs": [
    {
     "name": "stdout",
     "output_type": "stream",
     "text": [
      "1.5.3\n",
      "0.18.1\n",
      "1.11.1\n"
     ]
    }
   ],
   "source": [
    "import matplotlib\n",
    "import pandas\n",
    "import numpy\n",
    "print (matplotlib.__version__)\n",
    "print (pandas.__version__)\n",
    "print (numpy.__version__)"
   ]
  },
  {
   "cell_type": "code",
   "execution_count": 3,
   "metadata": {
    "collapsed": false
   },
   "outputs": [],
   "source": [
    "#Reading ratings file:\n",
    "df = pd.read_csv('/home/serge/Desktop/Kanye/Hubert/Memoir/data/data/data.csv')"
   ]
  },
  {
   "cell_type": "code",
   "execution_count": 4,
   "metadata": {
    "collapsed": false
   },
   "outputs": [
    {
     "name": "stdout",
     "output_type": "stream",
     "text": [
      " Total Number of users = 2500 | Total Number of jobs = 150\n"
     ]
    },
    {
     "data": {
      "text/plain": [
       "2500"
      ]
     },
     "execution_count": 4,
     "metadata": {},
     "output_type": "execute_result"
    }
   ],
   "source": [
    "n_users = df.UserId.unique().shape[0]\n",
    "n_jobs = df.JobId.unique().shape[0]\n",
    "print (' Total Number of users = ' + str(n_users) + ' | Total Number of jobs = ' + str(n_jobs) )\n",
    "n_users"
   ]
  },
  {
   "cell_type": "code",
   "execution_count": 5,
   "metadata": {
    "collapsed": false
   },
   "outputs": [],
   "source": [
    "from sklearn import cross_validation as cv\n",
    "train_data, test_data = cv.train_test_split(df,test_size=0.25)\n",
    "\n",
    "train_data = pd.DataFrame(train_data)\n",
    "test_data = pd.DataFrame(test_data)\n",
    "\n",
    "#Create two user-item matrices, one for training and another for testing\n",
    "train_data_matrix = np.zeros((n_users, n_jobs))\n",
    "for line in train_data.itertuples():\n",
    "    train_data_matrix[line[1]-1, line[2]-1] = line[3]  \n",
    "\n",
    "test_data_matrix = np.zeros((n_users, n_jobs))\n",
    "for line in test_data.itertuples():\n",
    "    test_data_matrix[line[1]-1, line[2]-1] = line[3]"
   ]
  },
  {
   "cell_type": "code",
   "execution_count": 6,
   "metadata": {
    "collapsed": true
   },
   "outputs": [],
   "source": [
    "# Memory-Based Collaborative Filtering"
   ]
  },
  {
   "cell_type": "code",
   "execution_count": 7,
   "metadata": {
    "collapsed": false
   },
   "outputs": [],
   "source": [
    "from sklearn.metrics.pairwise import pairwise_distances\n",
    "user_similarity = pairwise_distances(train_data_matrix, metric='cosine')\n",
    "item_similarity = pairwise_distances(train_data_matrix.T, metric='cosine')"
   ]
  },
  {
   "cell_type": "code",
   "execution_count": 8,
   "metadata": {
    "collapsed": false
   },
   "outputs": [],
   "source": [
    "def predict(ratings, similarity, type='user'):\n",
    "    if type == 'user':\n",
    "        mean_user_rating = ratings.mean(axis=1)\n",
    "        #You use np.newaxis so that mean_user_rating has same format as ratings\n",
    "        ratings_diff = (ratings - mean_user_rating[:, np.newaxis]) \n",
    "        pred = mean_user_rating[:, np.newaxis] + similarity.dot(ratings_diff) / np.array([np.abs(similarity).sum(axis=1)]).T\n",
    "    elif type == 'item':\n",
    "        pred = ratings.dot(similarity) / np.array([np.abs(similarity).sum(axis=1)])     \n",
    "    return pred"
   ]
  },
  {
   "cell_type": "code",
   "execution_count": 9,
   "metadata": {
    "collapsed": false
   },
   "outputs": [],
   "source": [
    "# To get the size of rating's data\n",
    "#print (rating.shape)\n",
    "# To get the firts five users!\n",
    "#rating.head()\n",
    "#len(rating.UserId)"
   ]
  },
  {
   "cell_type": "code",
   "execution_count": 10,
   "metadata": {
    "collapsed": false
   },
   "outputs": [],
   "source": [
    "item_prediction = predict(train_data_matrix, item_similarity, type='item')\n",
    "user_prediction = predict(train_data_matrix, user_similarity, type='user')"
   ]
  },
  {
   "cell_type": "code",
   "execution_count": 11,
   "metadata": {
    "collapsed": false
   },
   "outputs": [],
   "source": [
    "from sklearn.metrics import mean_squared_error\n",
    "from math import sqrt\n",
    "def rmse(prediction, ground_truth):\n",
    "    prediction = prediction[ground_truth.nonzero()].flatten() \n",
    "    ground_truth = ground_truth[ground_truth.nonzero()].flatten()\n",
    "    return sqrt(mean_squared_error(prediction, ground_truth))"
   ]
  },
  {
   "cell_type": "code",
   "execution_count": 12,
   "metadata": {
    "collapsed": false
   },
   "outputs": [
    {
     "data": {
      "text/plain": [
       "array([[ 0.,  4.]])"
      ]
     },
     "execution_count": 12,
     "metadata": {},
     "output_type": "execute_result"
    }
   ],
   "source": [
    "#train_data_matrix,test_data_matrix,\n",
    "train_data_matrix[:1,:2]"
   ]
  },
  {
   "cell_type": "code",
   "execution_count": 13,
   "metadata": {
    "collapsed": false
   },
   "outputs": [],
   "source": [
    "### Compute the cosine similarity\n",
    "## A distance metric commonly used in Recommender system is \n",
    "## cosine simmilarity and uses rating as a n-dimensional matrix\n",
    "## and the similarity is calculated based on the angle between these vectors."
   ]
  },
  {
   "cell_type": "code",
   "execution_count": 14,
   "metadata": {
    "collapsed": false
   },
   "outputs": [
    {
     "name": "stdout",
     "output_type": "stream",
     "text": [
      "[[  1.11022302e-16   7.07424310e-01   7.08169392e-01   6.94329010e-01]\n",
      " [  7.07424310e-01  -4.44089210e-16   6.84166107e-01   6.69188929e-01]\n",
      " [  7.08169392e-01   6.84166107e-01   0.00000000e+00   6.46455501e-01]\n",
      " [  6.94329010e-01   6.69188929e-01   6.46455501e-01   0.00000000e+00]]\n",
      "[[  1.11022302e-16   7.33029899e-01   7.39628028e-01   7.49548955e-01]\n",
      " [  7.33029899e-01   0.00000000e+00   6.59296086e-01   7.05643969e-01]\n",
      " [  7.39628028e-01   6.59296086e-01   0.00000000e+00   6.85955522e-01]\n",
      " [  7.49548955e-01   7.05643969e-01   6.85955522e-01   0.00000000e+00]]\n"
     ]
    }
   ],
   "source": [
    "print(item_similarity[:4, :4])\n",
    "print(user_similarity[:4, :4])"
   ]
  },
  {
   "cell_type": "code",
   "execution_count": 15,
   "metadata": {
    "collapsed": false
   },
   "outputs": [
    {
     "data": {
      "text/html": [
       "<div>\n",
       "<table border=\"1\" class=\"dataframe\">\n",
       "  <thead>\n",
       "    <tr style=\"text-align: right;\">\n",
       "      <th></th>\n",
       "      <th>0</th>\n",
       "      <th>1</th>\n",
       "    </tr>\n",
       "  </thead>\n",
       "  <tbody>\n",
       "    <tr>\n",
       "      <th>0</th>\n",
       "      <td>1.110223e-16</td>\n",
       "      <td>0.73303</td>\n",
       "    </tr>\n",
       "    <tr>\n",
       "      <th>1</th>\n",
       "      <td>7.330299e-01</td>\n",
       "      <td>0.00000</td>\n",
       "    </tr>\n",
       "  </tbody>\n",
       "</table>\n",
       "</div>"
      ],
      "text/plain": [
       "              0        1\n",
       "0  1.110223e-16  0.73303\n",
       "1  7.330299e-01  0.00000"
      ]
     },
     "execution_count": 15,
     "metadata": {},
     "output_type": "execute_result"
    }
   ],
   "source": [
    "data_sims = pd.DataFrame(user_similarity)\n",
    "data_sims.ix[:1, :1]"
   ]
  },
  {
   "cell_type": "code",
   "execution_count": 16,
   "metadata": {
    "collapsed": false
   },
   "outputs": [],
   "source": [
    "#data_sims.ix[:,:1]\n",
    "#data_sims.ix[1]\n",
    "#data_sims[jobs_data]"
   ]
  },
  {
   "cell_type": "code",
   "execution_count": 17,
   "metadata": {
    "collapsed": false
   },
   "outputs": [
    {
     "name": "stdout",
     "output_type": "stream",
     "text": [
      "User-based CF RMSE: 2.59388682566\n",
      "Item-based CF RMSE: 2.59443528736\n"
     ]
    }
   ],
   "source": [
    "print 'User-based CF RMSE: ' + str(rmse(user_prediction, test_data_matrix))\n",
    "print 'Item-based CF RMSE: ' + str(rmse(item_prediction, test_data_matrix))"
   ]
  },
  {
   "cell_type": "code",
   "execution_count": 18,
   "metadata": {
    "collapsed": false
   },
   "outputs": [],
   "source": [
    "# def get_top_2(jobs_data):\n",
    "#    p = data_sims[jobs_data].apply(lambda row: np.sum(row), axis=1)\n",
    "#    p = p.order(ascending=False)\n",
    "#    return p.index[p.index.isin(jobs_data)==False][:2] \n",
    "#print get_top_2()\n",
    " "
   ]
  },
  {
   "cell_type": "code",
   "execution_count": 19,
   "metadata": {
    "collapsed": false
   },
   "outputs": [
    {
     "name": "stdout",
     "output_type": "stream",
     "text": [
      "1 loop, best of 3: 1.12 s per loop\n"
     ]
    }
   ],
   "source": [
    "# Let us check the computational time\n",
    "%timeit pairwise_distances(train_data_matrix, metric='cosine')"
   ]
  },
  {
   "cell_type": "code",
   "execution_count": 20,
   "metadata": {
    "collapsed": false
   },
   "outputs": [],
   "source": [
    "def predict(ratings, similarity, type='user'):\n",
    "    if type == 'user':\n",
    "        mean_user_rating = ratings.mean(axis=1)\n",
    "        #You use np.newaxis so that mean_user_rating has same format as ratings\n",
    "        ratings_diff = (ratings - mean_user_rating[:, np.newaxis]) \n",
    "        pred = mean_user_rating[:, np.newaxis] + similarity.dot(ratings_diff) / np.array([np.abs(similarity).sum(axis=1)]).T\n",
    "    elif type == 'job':\n",
    "        pred = ratings.dot(similarity) / np.array([np.abs(similarity).sum(axis=1)])     \n",
    "    return pred"
   ]
  },
  {
   "cell_type": "code",
   "execution_count": 21,
   "metadata": {
    "collapsed": true
   },
   "outputs": [],
   "source": [
    "# Model-based Collaborative Filtering"
   ]
  },
  {
   "cell_type": "code",
   "execution_count": 22,
   "metadata": {
    "collapsed": false
   },
   "outputs": [
    {
     "name": "stdout",
     "output_type": "stream",
     "text": [
      "The sparsity level of MovieLens100K is 46.7%\n"
     ]
    }
   ],
   "source": [
    "sparsity=round(1.0-len(df)/float(n_users*n_jobs),3)\n",
    "print 'The sparsity level of MovieLens100K is ' +  str(sparsity*100) + '%'"
   ]
  },
  {
   "cell_type": "code",
   "execution_count": 23,
   "metadata": {
    "collapsed": true
   },
   "outputs": [],
   "source": [
    "# with the calculated simalarity matrix now we can use it to predict tyhe non rated jobs offers!"
   ]
  },
  {
   "cell_type": "code",
   "execution_count": 24,
   "metadata": {
    "collapsed": false
   },
   "outputs": [
    {
     "name": "stdout",
     "output_type": "stream",
     "text": [
      "User-based CF MSE: 2.69743505618\n"
     ]
    }
   ],
   "source": [
    "import scipy.sparse as sp\n",
    "from scipy.sparse.linalg import svds\n",
    "\n",
    "#get SVD components from train matrix. Choose k.\n",
    "u, s, vt = svds(train_data_matrix, k = 20)\n",
    "s_diag_matrix=np.diag(s)\n",
    "X_pred = np.dot(np.dot(u, s_diag_matrix), vt)\n",
    "print 'User-based CF MSE: ' + str(rmse(X_pred, test_data_matrix))"
   ]
  },
  {
   "cell_type": "code",
   "execution_count": 25,
   "metadata": {
    "collapsed": false
   },
   "outputs": [
    {
     "data": {
      "text/plain": [
       "array([[ 1.23351553,  1.20927818,  1.21596616, ...,  1.20041009,\n",
       "         1.20360237,  1.23602052],\n",
       "       [ 1.03478591,  1.02060941,  1.03324697, ...,  1.03565111,\n",
       "         1.03061732,  1.03835643],\n",
       "       [ 1.09251875,  1.09370567,  1.09169475, ...,  1.09088825,\n",
       "         1.07405898,  1.09384994],\n",
       "       ..., \n",
       "       [ 1.23137234,  1.26057708,  1.23144747, ...,  1.25878189,\n",
       "         1.24396102,  1.26398779],\n",
       "       [ 1.34598612,  1.31535353,  1.30876076, ...,  1.34429356,\n",
       "         1.345894  ,  1.3121887 ],\n",
       "       [ 0.85169667,  0.86153389,  0.86573124, ...,  0.8627491 ,\n",
       "         0.84591458,  0.86543903]])"
      ]
     },
     "execution_count": 25,
     "metadata": {},
     "output_type": "execute_result"
    }
   ],
   "source": [
    "item_prediction"
   ]
  },
  {
   "cell_type": "code",
   "execution_count": 26,
   "metadata": {
    "collapsed": false
   },
   "outputs": [
    {
     "name": "stdout",
     "output_type": "stream",
     "text": [
      "10 loops, best of 3: 106 ms per loop\n",
      "1 loop, best of 3: 1.51 s per loop\n"
     ]
    }
   ],
   "source": [
    "%timeit predict(train_data_matrix, item_similarity, type='job')\n",
    "%timeit predict(train_data_matrix, user_similarity, type='user')"
   ]
  },
  {
   "cell_type": "code",
   "execution_count": 27,
   "metadata": {
    "collapsed": true
   },
   "outputs": [],
   "source": [
    "from sklearn.metrics import mean_squared_error\n",
    "from math import sqrt\n",
    "def rmse(prediction, ground_truth):\n",
    "    prediction = prediction[ground_truth.nonzero()].flatten() \n",
    "    ground_truth = ground_truth[ground_truth.nonzero()].flatten()\n",
    "    return sqrt(mean_squared_error(prediction, ground_truth))"
   ]
  },
  {
   "cell_type": "code",
   "execution_count": 28,
   "metadata": {
    "collapsed": false
   },
   "outputs": [
    {
     "name": "stdout",
     "output_type": "stream",
     "text": [
      "User-based CF RMSE: 2.59388682566\n",
      "Item-based CF RMSE: 2.59443528736\n"
     ]
    }
   ],
   "source": [
    "print 'User-based CF RMSE: ' + str(rmse(user_prediction, test_data_matrix))\n",
    "print 'Item-based CF RMSE: ' + str(rmse(item_prediction, test_data_matrix))"
   ]
  },
  {
   "cell_type": "code",
   "execution_count": null,
   "metadata": {
    "collapsed": true
   },
   "outputs": [],
   "source": []
  },
  {
   "cell_type": "code",
   "execution_count": 29,
   "metadata": {
    "collapsed": false
   },
   "outputs": [
    {
     "name": "stdout",
     "output_type": "stream",
     "text": [
      "The sparsity level of WutikoData is 46.7%\n"
     ]
    }
   ],
   "source": [
    "sparsity=round(1.0-len(df)/float(n_users*n_jobs),3)\n",
    "print 'The sparsity level of WutikoData is ' +  str(sparsity*100) + '%'"
   ]
  },
  {
   "cell_type": "code",
   "execution_count": 30,
   "metadata": {
    "collapsed": false
   },
   "outputs": [
    {
     "name": "stdout",
     "output_type": "stream",
     "text": [
      "User-based CF MSE: 2.69743505618\n"
     ]
    }
   ],
   "source": [
    "import scipy.sparse as sp\n",
    "from scipy.sparse.linalg import svds\n",
    "\n",
    "#get SVD components from train matrix. Choose k.\n",
    "u, s, vt = svds(train_data_matrix, k = 20)\n",
    "s_diag_matrix=np.diag(s)\n",
    "X_pred = np.dot(np.dot(u, s_diag_matrix), vt)\n",
    "print 'User-based CF MSE: ' + str(rmse(X_pred, test_data_matrix))"
   ]
  },
  {
   "cell_type": "code",
   "execution_count": null,
   "metadata": {
    "collapsed": true
   },
   "outputs": [],
   "source": []
  },
  {
   "cell_type": "code",
   "execution_count": 31,
   "metadata": {
    "collapsed": true
   },
   "outputs": [],
   "source": [
    "## Content-Boosted Collaborative Filtering:\n",
    "# This approach uses a content-based predictor to enhance existing user data,\n",
    "# and then provides personalized suggestions through collaborative filtering\n",
    "# Content-Boosted Collaborative Filtering, performs better than a pure content-based predictor, pure\n",
    "# collaborative filter, and a naive hybrid approach."
   ]
  },
  {
   "cell_type": "code",
   "execution_count": 32,
   "metadata": {
    "collapsed": true
   },
   "outputs": [],
   "source": [
    "# Model Evaluation\n",
    "# The metrics for evaluating the accuracy of a prediction algorithm can be divided into two main categories: \n",
    "# statistical accuracy metrics and decision-support metrics.\n",
    "# 1. Statistical accuracy metrics evaluate the accu-\n",
    "# racy of a predictor by comparing predicted values with user-\n",
    "#provided values. To measure statistical accuracy we use the\n",
    "# mean absolute error (MAE) metric — defined as the average\n",
    "# absolute difference between predicted ratings and actual rat-\n",
    "# ings. In our experiments we computed the MAE on the test\n",
    "# set for each user, and then averaged over the set of test users"
   ]
  },
  {
   "cell_type": "code",
   "execution_count": 33,
   "metadata": {
    "collapsed": true
   },
   "outputs": [],
   "source": [
    "\n",
    "# 2.Decision-support accuracy measures how well predic-\n",
    "# tions help users select high-quality items. We use Re-\n",
    "# ceiver Operating Characteristic (ROC) sensitivity to mea-\n",
    "# sure decision-support accuracy. A predictor can be treated as a filter, where predicting a high rating for an item is\n",
    "# equivalent to accepting the item, and predicting a low rating\n",
    "# is equivalent to rejecting the item. The ROC sensitivity is\n",
    "# given by the area under the ROC curve — a curve that plots\n",
    "# sensitivity versus 1-specificity for a predictor. Sensitivity is\n",
    "# defined as the probability that a good item is accepted by the\n",
    "# filter; and specificity is defined as the probability that a bad\n",
    "# item is rejected by the filter. We consider an item good if the\n",
    "# user gave it a rating of 4 or above, otherwise we consider the\n",
    "# item bad."
   ]
  },
  {
   "cell_type": "code",
   "execution_count": null,
   "metadata": {
    "collapsed": false
   },
   "outputs": [],
   "source": []
  },
  {
   "cell_type": "code",
   "execution_count": null,
   "metadata": {
    "collapsed": true
   },
   "outputs": [],
   "source": []
  }
 ],
 "metadata": {
  "kernelspec": {
   "display_name": "Python [default]",
   "language": "python",
   "name": "python2"
  },
  "language_info": {
   "codemirror_mode": {
    "name": "ipython",
    "version": 2
   },
   "file_extension": ".py",
   "mimetype": "text/x-python",
   "name": "python",
   "nbconvert_exporter": "python",
   "pygments_lexer": "ipython2",
   "version": "2.7.12"
  }
 },
 "nbformat": 4,
 "nbformat_minor": 0
}
