{
 "cells": [
  {
   "cell_type": "code",
   "execution_count": 1,
   "metadata": {
    "collapsed": false
   },
   "outputs": [],
   "source": [
    "import os\n",
    "import numpy as np\n",
    "import pandas as pd\n",
    "import matplotlib.pyplot as plt\n",
    "%matplotlib inline"
   ]
  },
  {
   "cell_type": "code",
   "execution_count": 2,
   "metadata": {
    "collapsed": false
   },
   "outputs": [
    {
     "name": "stdout",
     "output_type": "stream",
     "text": [
      "1.5.3\n",
      "0.18.1\n",
      "1.11.1\n"
     ]
    }
   ],
   "source": [
    "import matplotlib\n",
    "import pandas\n",
    "import numpy\n",
    "print (matplotlib.__version__)\n",
    "print (pandas.__version__)\n",
    "print (numpy.__version__)"
   ]
  },
  {
   "cell_type": "code",
   "execution_count": 3,
   "metadata": {
    "collapsed": false
   },
   "outputs": [],
   "source": [
    "#Reading users file:\n",
    "#users_data = pd.read_csv('/home/nadine/Desktop/Memoir/data/user.csv')"
   ]
  },
  {
   "cell_type": "code",
   "execution_count": 4,
   "metadata": {
    "collapsed": false
   },
   "outputs": [],
   "source": [
    "#Reading jobs file:\n",
    "#jobs_data = pd.read_csv('/home/nadine/Desktop/Memoir/data/jobs.csv')\n"
   ]
  },
  {
   "cell_type": "code",
   "execution_count": 5,
   "metadata": {
    "collapsed": false
   },
   "outputs": [],
   "source": [
    "#Reading ratings file:\n",
    "df = pd.read_csv('/home/serge/Desktop/Kanye/Hubert/Memoir/data/data/data.csv')"
   ]
  },
  {
   "cell_type": "code",
   "execution_count": 6,
   "metadata": {
    "collapsed": true
   },
   "outputs": [],
   "source": [
    "# Now lets take a peak into the content of each file to understand them better."
   ]
  },
  {
   "cell_type": "code",
   "execution_count": 7,
   "metadata": {
    "collapsed": false
   },
   "outputs": [],
   "source": [
    "# To get the size of rating's data\n",
    "#print (rating.shape)\n",
    "# To get the firts five users!\n",
    "#rating.head()\n",
    "#len(rating.UserId)"
   ]
  },
  {
   "cell_type": "code",
   "execution_count": 8,
   "metadata": {
    "collapsed": true
   },
   "outputs": [],
   "source": [
    "# Now we have to divide the ratings data set into test and train data for making models:\n",
    "# To split the rating data into traing and test data, we can use \"scikit-learn library\""
   ]
  },
  {
   "cell_type": "code",
   "execution_count": 9,
   "metadata": {
    "collapsed": false
   },
   "outputs": [],
   "source": [
    "from sklearn import cross_validation as cv\n",
    "train_data, test_data = cv.train_test_split(df, test_size=0.15)\n",
    "tn_data  = pd.DataFrame(train_data, columns=['UserId','JobId','Rating'])\n",
    "ts_data  = pd.DataFrame(test_data, columns=['UserId','JobId','Rating'])\n"
   ]
  },
  {
   "cell_type": "code",
   "execution_count": 10,
   "metadata": {
    "collapsed": true
   },
   "outputs": [],
   "source": [
    "# COLLABORATIVE FILTERING ALGORITHMS"
   ]
  },
  {
   "cell_type": "code",
   "execution_count": 11,
   "metadata": {
    "collapsed": false
   },
   "outputs": [],
   "source": [
    "## 1. Memory-Based Collaborative Filtering:"
   ]
  },
  {
   "cell_type": "code",
   "execution_count": 12,
   "metadata": {
    "collapsed": false
   },
   "outputs": [
    {
     "name": "stdout",
     "output_type": "stream",
     "text": [
      " Total Number of users = 2500 | Total Number of jobs = 150\n"
     ]
    },
    {
     "data": {
      "text/plain": [
       "2500"
      ]
     },
     "execution_count": 12,
     "metadata": {},
     "output_type": "execute_result"
    }
   ],
   "source": [
    "n_users = df.UserId.unique().shape[0]\n",
    "n_jobs = df.JobId.unique().shape[0]\n",
    "print (' Total Number of users = ' + str(n_users) + ' | Total Number of jobs = ' + str(n_jobs) )\n",
    "n_users"
   ]
  },
  {
   "cell_type": "code",
   "execution_count": 13,
   "metadata": {
    "collapsed": true
   },
   "outputs": [],
   "source": [
    "# 1. User_Item Filtering Algorithm: \n",
    "## A user-item filtering will take a particular user, find users that are similar to that user based on similarity of ratings, and recommend items that those similar users liked\n",
    "##  Main steps\n",
    "### Build user-item matrix: X12 represents rating from user1 to job2\n",
    "### Calculate the simmility: user simalality based on ratings simality and job similarity based  on ratings simalarity using cosine similarity\n",
    "### Create the simility matrix"
   ]
  },
  {
   "cell_type": "code",
   "execution_count": 14,
   "metadata": {
    "collapsed": false
   },
   "outputs": [],
   "source": [
    "#tn_data['JobId']"
   ]
  },
  {
   "cell_type": "code",
   "execution_count": 15,
   "metadata": {
    "collapsed": false,
    "scrolled": true
   },
   "outputs": [],
   "source": [
    "### Build user-item matrix for Traing dataset\n",
    "train_data_matrix = np.zeros((n_users, n_jobs))\n",
    "for line in tn_data.itertuples():\n",
    "    train_data_matrix[line[1]-1, line[2]-1] = line[3]\n",
    "    \n",
    "### Build user-item matrix for Testing dataset\n",
    "test_data_matrix = np.zeros((n_users, n_jobs))\n",
    "for line in ts_data.itertuples():\n",
    "    test_data_matrix[line[1]-1, line[2]-1] = line[3]   "
   ]
  },
  {
   "cell_type": "code",
   "execution_count": 16,
   "metadata": {
    "collapsed": false
   },
   "outputs": [
    {
     "data": {
      "text/plain": [
       "array([[ 4.,  0.]])"
      ]
     },
     "execution_count": 16,
     "metadata": {},
     "output_type": "execute_result"
    }
   ],
   "source": [
    "#train_data_matrix,test_data_matrix,\n",
    "train_data_matrix[:1,:2]"
   ]
  },
  {
   "cell_type": "code",
   "execution_count": 17,
   "metadata": {
    "collapsed": false
   },
   "outputs": [],
   "source": [
    "### Compute the cosine similarity\n",
    "## A distance metric commonly used in Recommender system is \n",
    "## cosine simmilarity and uses rating as a n-dimensional matrix\n",
    "## and the similarity is calculated based on the angle between these vectors."
   ]
  },
  {
   "cell_type": "code",
   "execution_count": 18,
   "metadata": {
    "collapsed": false
   },
   "outputs": [],
   "source": [
    "from sklearn.metrics.pairwise import pairwise_distances\n",
    "user_similarity = pairwise_distances(train_data_matrix, metric='cosine')\n",
    "item_similarity = pairwise_distances(train_data_matrix.T, metric='cosine')"
   ]
  },
  {
   "cell_type": "code",
   "execution_count": 19,
   "metadata": {
    "collapsed": false
   },
   "outputs": [
    {
     "name": "stdout",
     "output_type": "stream",
     "text": [
      "[[  0.00000000e+00   6.78086377e-01   6.46514728e-01   6.41090955e-01]\n",
      " [  6.78086377e-01  -6.66133815e-16   6.49085406e-01   6.30914869e-01]\n",
      " [  6.46514728e-01   6.49085406e-01   2.22044605e-16   6.21846667e-01]\n",
      " [  6.41090955e-01   6.30914869e-01   6.21846667e-01   2.22044605e-16]]\n",
      "[[  2.22044605e-16   6.37880584e-01   7.13820668e-01   7.06056305e-01]\n",
      " [  6.37880584e-01   2.22044605e-16   5.36852714e-01   6.45417119e-01]\n",
      " [  7.13820668e-01   5.36852714e-01   0.00000000e+00   6.42755562e-01]\n",
      " [  7.06056305e-01   6.45417119e-01   6.42755562e-01   1.11022302e-16]]\n"
     ]
    }
   ],
   "source": [
    "print(item_similarity[:4, :4])\n",
    "print(user_similarity[:4, :4])"
   ]
  },
  {
   "cell_type": "code",
   "execution_count": 20,
   "metadata": {
    "collapsed": false
   },
   "outputs": [
    {
     "data": {
      "text/html": [
       "<div>\n",
       "<table border=\"1\" class=\"dataframe\">\n",
       "  <thead>\n",
       "    <tr style=\"text-align: right;\">\n",
       "      <th></th>\n",
       "      <th>0</th>\n",
       "      <th>1</th>\n",
       "    </tr>\n",
       "  </thead>\n",
       "  <tbody>\n",
       "    <tr>\n",
       "      <th>0</th>\n",
       "      <td>2.220446e-16</td>\n",
       "      <td>6.378806e-01</td>\n",
       "    </tr>\n",
       "    <tr>\n",
       "      <th>1</th>\n",
       "      <td>6.378806e-01</td>\n",
       "      <td>2.220446e-16</td>\n",
       "    </tr>\n",
       "  </tbody>\n",
       "</table>\n",
       "</div>"
      ],
      "text/plain": [
       "              0             1\n",
       "0  2.220446e-16  6.378806e-01\n",
       "1  6.378806e-01  2.220446e-16"
      ]
     },
     "execution_count": 20,
     "metadata": {},
     "output_type": "execute_result"
    }
   ],
   "source": [
    "data_sims = pd.DataFrame(user_similarity)\n",
    "data_sims.ix[:1, :1]"
   ]
  },
  {
   "cell_type": "code",
   "execution_count": 21,
   "metadata": {
    "collapsed": false
   },
   "outputs": [
    {
     "name": "stdout",
     "output_type": "stream",
     "text": [
      "1 loop, best of 3: 1.09 s per loop\n"
     ]
    }
   ],
   "source": [
    "# Let us check the computational time\n",
    "%timeit pairwise_distances(train_data_matrix, metric='cosine')"
   ]
  },
  {
   "cell_type": "code",
   "execution_count": 22,
   "metadata": {
    "collapsed": false
   },
   "outputs": [],
   "source": [
    "def predict(ratings, similarity, type='user'):\n",
    "    if type == 'user':\n",
    "        mean_user_rating = ratings.mean(axis=1)\n",
    "        #You use np.newaxis so that mean_user_rating has same format as ratings\n",
    "        ratings_diff = (ratings - mean_user_rating[:, np.newaxis]) \n",
    "        pred = mean_user_rating[:, np.newaxis] + similarity.dot(ratings_diff) / np.array([np.abs(similarity).sum(axis=1)]).T\n",
    "    elif type == 'job':\n",
    "        pred = ratings.dot(similarity) / np.array([np.abs(similarity).sum(axis=1)])     \n",
    "    return pred"
   ]
  },
  {
   "cell_type": "code",
   "execution_count": 23,
   "metadata": {
    "collapsed": true
   },
   "outputs": [],
   "source": [
    "# with the calculated simalarity matrix now we can use it to predict tyhe non rated jobs offers!"
   ]
  },
  {
   "cell_type": "code",
   "execution_count": 24,
   "metadata": {
    "collapsed": false
   },
   "outputs": [],
   "source": [
    "item_prediction = predict(train_data_matrix, item_similarity, type='job')\n",
    "user_prediction = predict(train_data_matrix, user_similarity, type='user')"
   ]
  },
  {
   "cell_type": "code",
   "execution_count": 25,
   "metadata": {
    "collapsed": false
   },
   "outputs": [
    {
     "name": "stdout",
     "output_type": "stream",
     "text": [
      "10 loops, best of 3: 97.1 ms per loop\n",
      "1 loop, best of 3: 1.21 s per loop\n"
     ]
    }
   ],
   "source": [
    "%timeit predict(train_data_matrix, item_similarity, type='job')\n",
    "%timeit predict(train_data_matrix, user_similarity, type='user')"
   ]
  },
  {
   "cell_type": "code",
   "execution_count": 26,
   "metadata": {
    "collapsed": true
   },
   "outputs": [],
   "source": [
    "from sklearn.metrics import mean_squared_error\n",
    "from math import sqrt\n",
    "def rmse(prediction, ground_truth):\n",
    "    prediction = prediction[ground_truth.nonzero()].flatten() \n",
    "    ground_truth = ground_truth[ground_truth.nonzero()].flatten()\n",
    "    return sqrt(mean_squared_error(prediction, ground_truth))"
   ]
  },
  {
   "cell_type": "code",
   "execution_count": 27,
   "metadata": {
    "collapsed": false
   },
   "outputs": [
    {
     "name": "stdout",
     "output_type": "stream",
     "text": [
      "User-based CF RMSE for Training Set: 2.48793993578\n",
      "User-based CF RMSE for Testing Set: 2.48840146542\n",
      "Item-based CF RMSE for Training Set: 2.48960129307\n",
      "Item-based CF RMSE for Testing Set: 2.48956347757\n"
     ]
    }
   ],
   "source": [
    "print 'User-based CF RMSE for Training Set: ' + str(rmse(user_prediction, train_data_matrix))\n",
    "print 'User-based CF RMSE for Testing Set: ' + str(rmse(user_prediction, test_data_matrix))\n",
    "\n",
    "print 'Item-based CF RMSE for Training Set: ' + str(rmse(item_prediction, train_data_matrix))\n",
    "print 'Item-based CF RMSE for Testing Set: ' + str(rmse(item_prediction, test_data_matrix))"
   ]
  },
  {
   "cell_type": "code",
   "execution_count": 28,
   "metadata": {
    "collapsed": true
   },
   "outputs": [],
   "source": [
    "# Singular Value Decomposition"
   ]
  },
  {
   "cell_type": "code",
   "execution_count": 29,
   "metadata": {
    "collapsed": false
   },
   "outputs": [
    {
     "name": "stdout",
     "output_type": "stream",
     "text": [
      "The sparsity level of WutikoData is 46.7%\n"
     ]
    }
   ],
   "source": [
    "sparsity=round(1.0-len(df)/float(n_users*n_jobs),3)\n",
    "print 'The sparsity level of WutikoData is ' +  str(sparsity*100) + '%'"
   ]
  },
  {
   "cell_type": "code",
   "execution_count": 30,
   "metadata": {
    "collapsed": false
   },
   "outputs": [
    {
     "name": "stdout",
     "output_type": "stream",
     "text": [
      "User-based CF MSE for Training Set: 2.14233675377\n",
      "User-based CF MSE for Testing Set: 2.60676794482\n"
     ]
    }
   ],
   "source": [
    "import scipy.sparse as sp\n",
    "from scipy.sparse.linalg import svds\n",
    "\n",
    "#get SVD components from train matrix. Choose k.\n",
    "u, s, vt = svds(train_data_matrix, k = 20)\n",
    "s_diag_matrix=np.diag(s)\n",
    "X_pred = np.dot(np.dot(u, s_diag_matrix), vt)\n",
    "print 'User-based CF MSE for Training Set: ' + str(rmse(X_pred, train_data_matrix))\n",
    "print 'User-based CF MSE for Testing Set: ' + str(rmse(X_pred, test_data_matrix))"
   ]
  },
  {
   "cell_type": "code",
   "execution_count": 31,
   "metadata": {
    "collapsed": true
   },
   "outputs": [],
   "source": [
    "## Content-Boosted Collaborative Filtering:\n",
    "# This approach uses a content-based predictor to enhance existing user data,\n",
    "# and then provides personalized suggestions through collaborative filtering\n",
    "# Content-Boosted Collaborative Filtering, performs better than a pure content-based predictor, pure\n",
    "# collaborative filter, and a naive hybrid approach."
   ]
  },
  {
   "cell_type": "code",
   "execution_count": 32,
   "metadata": {
    "collapsed": true
   },
   "outputs": [],
   "source": [
    "# Model Evaluation\n",
    "# The metrics for evaluating the accuracy of a prediction algorithm can be divided into two main categories: \n",
    "# statistical accuracy metrics and decision-support metrics.\n",
    "# 1. Statistical accuracy metrics evaluate the accu-\n",
    "# racy of a predictor by comparing predicted values with user-\n",
    "#provided values. To measure statistical accuracy we use the\n",
    "# mean absolute error (MAE) metric — defined as the average\n",
    "# absolute difference between predicted ratings and actual rat-\n",
    "# ings. In our experiments we computed the MAE on the test\n",
    "# set for each user, and then averaged over the set of test users"
   ]
  },
  {
   "cell_type": "code",
   "execution_count": 33,
   "metadata": {
    "collapsed": true
   },
   "outputs": [],
   "source": [
    "\n",
    "# 2.Decision-support accuracy measures how well predic-\n",
    "# tions help users select high-quality items. We use Re-\n",
    "# ceiver Operating Characteristic (ROC) sensitivity to mea-\n",
    "# sure decision-support accuracy. A predictor can be treated as a filter, where predicting a high rating for an item is\n",
    "# equivalent to accepting the item, and predicting a low rating\n",
    "# is equivalent to rejecting the item. The ROC sensitivity is\n",
    "# given by the area under the ROC curve — a curve that plots\n",
    "# sensitivity versus 1-specificity for a predictor. Sensitivity is\n",
    "# defined as the probability that a good item is accepted by the\n",
    "# filter; and specificity is defined as the probability that a bad\n",
    "# item is rejected by the filter. We consider an item good if the\n",
    "# user gave it a rating of 4 or above, otherwise we consider the\n",
    "# item bad."
   ]
  },
  {
   "cell_type": "code",
   "execution_count": 34,
   "metadata": {
    "collapsed": false
   },
   "outputs": [
    {
     "name": "stdout",
     "output_type": "stream",
     "text": [
      "User-based CF MSE: 2.60676794482\n"
     ]
    }
   ],
   "source": [
    "import scipy.sparse as sp\n",
    "from scipy.sparse.linalg import svds\n",
    "\n",
    "#get SVD components from train matrix. Choose k.\n",
    "u, s, vt = svds(train_data_matrix, k = 20)\n",
    "s_diag_matrix=np.diag(s)\n",
    "X_pred = np.dot(np.dot(u, s_diag_matrix), vt)\n",
    "print 'User-based CF MSE: ' + str(rmse(X_pred, test_data_matrix))"
   ]
  },
  {
   "cell_type": "code",
   "execution_count": 35,
   "metadata": {
    "collapsed": true
   },
   "outputs": [],
   "source": [
    "# Tutorials"
   ]
  },
  {
   "cell_type": "code",
   "execution_count": 36,
   "metadata": {
    "collapsed": true
   },
   "outputs": [],
   "source": [
    "def compute_rmse(y_pred, y_true):\n",
    "    \"\"\"Computr Root Mean Squared Error.\"\"\"\n",
    "    return np.sqrt(np.mean(np.power(y_pred - y_true, 2)))"
   ]
  },
  {
   "cell_type": "code",
   "execution_count": 37,
   "metadata": {
    "collapsed": false
   },
   "outputs": [],
   "source": [
    "def evaluate(estimate_f):\n",
    "    \"\"\"RMSE-based predictive performance evaulate with pandas\"\"\"\n",
    "    ids_to_estimate = zip(ts_data.UserId, ts_data.JobId)\n",
    "    estimated = np.array([estimate_f(u,i) for (u,i) in ids_to_estimate])\n",
    "    real = ts_data.Rating.values\n",
    "    return compute_rmse(estimated, real)"
   ]
  },
  {
   "cell_type": "code",
   "execution_count": 38,
   "metadata": {
    "collapsed": true
   },
   "outputs": [],
   "source": [
    "def my_estimate_func(UserId, JobId):\n",
    "    return 3.0"
   ]
  },
  {
   "cell_type": "code",
   "execution_count": 39,
   "metadata": {
    "collapsed": false
   },
   "outputs": [
    {
     "name": "stdout",
     "output_type": "stream",
     "text": [
      "RMSE for estimate: 1.29874854814\n"
     ]
    }
   ],
   "source": [
    "print('RMSE for estimate: %s' % evaluate(my_estimate_func)) "
   ]
  },
  {
   "cell_type": "code",
   "execution_count": 40,
   "metadata": {
    "collapsed": true
   },
   "outputs": [],
   "source": [
    "# Simple Collaborative"
   ]
  },
  {
   "cell_type": "code",
   "execution_count": 41,
   "metadata": {
    "collapsed": false
   },
   "outputs": [
    {
     "name": "stdout",
     "output_type": "stream",
     "text": [
      "RMSE for estiamte1: 1.45787962921\n"
     ]
    }
   ],
   "source": [
    "def collab_mean(UserId, JobId):\n",
    "    \"\"\"Simple content-filtering based on mean ratings.\"\"\"\n",
    "    user_condition = tn_data.UserId == UserId\n",
    "    job_condition = tn_data.JobId == JobId\n",
    "    ratings_by_others = tn_data.loc[user_condition & job_condition]\n",
    "    if ratings_by_others.empty:\n",
    "        return 3.0\n",
    "    else:  \n",
    "        return ratings_by_others.Rating.mean()\n",
    "\n",
    "print 'RMSE for estiamte1: %s' % evaluate(collab_mean)"
   ]
  },
  {
   "cell_type": "code",
   "execution_count": 42,
   "metadata": {
    "collapsed": true
   },
   "outputs": [],
   "source": [
    "# Content-based Filtering using mean ratings"
   ]
  },
  {
   "cell_type": "code",
   "execution_count": 43,
   "metadata": {
    "collapsed": false
   },
   "outputs": [
    {
     "name": "stdout",
     "output_type": "stream",
     "text": [
      "RMSE for estiamte2: 1.25161157425\n"
     ]
    }
   ],
   "source": [
    "def content_mean(UserId, JobId):\n",
    "    \"\"\"Simple content-filtering based on mean ratings.\"\"\"\n",
    "    user_condition = tn_data.UserId == UserId\n",
    "    return tn_data.loc[user_condition, 'Rating'].mean()\n",
    "print 'RMSE for estiamte2: %s' % evaluate(content_mean)"
   ]
  },
  {
   "cell_type": "code",
   "execution_count": null,
   "metadata": {
    "collapsed": true
   },
   "outputs": [],
   "source": []
  },
  {
   "cell_type": "code",
   "execution_count": null,
   "metadata": {
    "collapsed": true
   },
   "outputs": [],
   "source": []
  },
  {
   "cell_type": "code",
   "execution_count": null,
   "metadata": {
    "collapsed": false
   },
   "outputs": [],
   "source": []
  },
  {
   "cell_type": "code",
   "execution_count": null,
   "metadata": {
    "collapsed": true
   },
   "outputs": [],
   "source": []
  }
 ],
 "metadata": {
  "anaconda-cloud": {},
  "kernelspec": {
   "display_name": "Python [default]",
   "language": "python",
   "name": "python2"
  },
  "language_info": {
   "codemirror_mode": {
    "name": "ipython",
    "version": 2
   },
   "file_extension": ".py",
   "mimetype": "text/x-python",
   "name": "python",
   "nbconvert_exporter": "python",
   "pygments_lexer": "ipython2",
   "version": "2.7.12"
  }
 },
 "nbformat": 4,
 "nbformat_minor": 0
}
