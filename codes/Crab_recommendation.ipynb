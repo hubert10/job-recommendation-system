{
 "cells": [
  {
   "cell_type": "code",
   "execution_count": 1,
   "metadata": {
    "collapsed": true
   },
   "outputs": [],
   "source": [
    "from scikits.crab import datasets"
   ]
  },
  {
   "cell_type": "code",
   "execution_count": 2,
   "metadata": {
    "collapsed": true
   },
   "outputs": [],
   "source": [
    "movies = datasets.load_sample_movies()\n",
    "songs = datasets.load_sample_songs()"
   ]
  },
  {
   "cell_type": "code",
   "execution_count": 3,
   "metadata": {
    "collapsed": false
   },
   "outputs": [
    {
     "data": {
      "text/plain": [
       "{1: {1: 3.0, 2: 4.0, 3: 3.5, 4: 5.0, 5: 3.0},\n",
       " 2: {1: 3.0, 2: 4.0, 3: 2.0, 4: 3.0, 5: 3.0, 6: 2.0},\n",
       " 3: {2: 3.5, 3: 2.5, 4: 4.0, 5: 4.5, 6: 3.0},\n",
       " 4: {1: 2.5, 2: 3.5, 3: 2.5, 4: 3.5, 5: 3.0, 6: 3.0},\n",
       " 5: {2: 4.5, 3: 1.0, 4: 4.0},\n",
       " 6: {1: 3.0, 2: 3.5, 3: 3.5, 4: 5.0, 5: 3.0, 6: 1.5},\n",
       " 7: {1: 2.5, 2: 3.0, 4: 3.5, 5: 4.0}}"
      ]
     },
     "execution_count": 3,
     "metadata": {},
     "output_type": "execute_result"
    }
   ],
   "source": [
    "movies.data"
   ]
  },
  {
   "cell_type": "code",
   "execution_count": 4,
   "metadata": {
    "collapsed": false
   },
   "outputs": [
    {
     "data": {
      "text/plain": [
       "({1: 'Lady in the Water',\n",
       "  2: 'Snakes on a Planet',\n",
       "  3: 'You, Me and Dupree',\n",
       "  4: 'Superman Returns',\n",
       "  5: 'The Night Listener',\n",
       "  6: 'Just My Luck'},\n",
       " {1: 'Jack Matthews',\n",
       "  2: 'Mick LaSalle',\n",
       "  3: 'Claudia Puig',\n",
       "  4: 'Lisa Rose',\n",
       "  5: 'Toby',\n",
       "  6: 'Gene Seymour',\n",
       "  7: 'Michael Phillips'})"
      ]
     },
     "execution_count": 4,
     "metadata": {},
     "output_type": "execute_result"
    }
   ],
   "source": [
    "movies.item_ids, movies.user_ids"
   ]
  },
  {
   "cell_type": "code",
   "execution_count": 5,
   "metadata": {
    "collapsed": false
   },
   "outputs": [
    {
     "name": "stdout",
     "output_type": "stream",
     "text": [
      "MatrixPreferenceDataModel (7 by 6)\n",
      "         1          2          3          4          5        ...\n",
      "1        3.000000   4.000000   3.500000   5.000000   3.000000\n",
      "2        3.000000   4.000000   2.000000   3.000000   3.000000\n",
      "3           ---     3.500000   2.500000   4.000000   4.500000\n",
      "4        2.500000   3.500000   2.500000   3.500000   3.000000\n",
      "5           ---     4.500000   1.000000   4.000000      ---\n",
      "6        3.000000   3.500000   3.500000   5.000000   3.000000\n",
      "7        2.500000   3.000000      ---     3.500000   4.000000\n"
     ]
    }
   ],
   "source": [
    "from scikits.crab.models import MatrixPreferenceDataModel\n",
    "#Build the model\n",
    "model = MatrixPreferenceDataModel(movies.data)\n",
    "print model"
   ]
  },
  {
   "cell_type": "code",
   "execution_count": 6,
   "metadata": {
    "collapsed": false
   },
   "outputs": [],
   "source": [
    "from scikits.crab.metrics import pearson_correlation\n",
    "from scikits.crab.similarities import UserSimilarity\n",
    "#Build the similarity\n",
    "similarity = UserSimilarity(model, pearson_correlation)\n"
   ]
  },
  {
   "cell_type": "code",
   "execution_count": 7,
   "metadata": {
    "collapsed": false
   },
   "outputs": [
    {
     "name": "stdout",
     "output_type": "stream",
     "text": [
      "<scikits.crab.similarities.basic_similarities.UserSimilarity object at 0x7f1ed925ca90>\n"
     ]
    }
   ],
   "source": [
    "print similarity"
   ]
  },
  {
   "cell_type": "code",
   "execution_count": 18,
   "metadata": {
    "collapsed": false
   },
   "outputs": [
    {
     "name": "stderr",
     "output_type": "stream",
     "text": [
      "/usr/local/lib/python2.7/dist-packages/scikits/crab/recommenders/knn/classes.py:537: VisibleDeprecationWarning: boolean index did not match indexed array along dimension 0; dimension is 4 but corresponding boolean dimension is 3\n",
      "  similarities = similarities[~np.isnan(prefs)]\n"
     ]
    },
    {
     "data": {
      "text/plain": [
       "[(6, 2.8092760065251263), (3, 2.6946367039803634)]"
      ]
     },
     "execution_count": 18,
     "metadata": {},
     "output_type": "execute_result"
    }
   ],
   "source": [
    "from scikits.crab.recommenders.knn import UserBasedRecommender\n",
    "#Build the User based recommender\n",
    "recommender = UserBasedRecommender(model, similarity, with_preference=True)\n",
    "#Recommend items for the user 5 (Toby)\n",
    "recommender.recommend(7)"
   ]
  },
  {
   "cell_type": "code",
   "execution_count": null,
   "metadata": {
    "collapsed": true
   },
   "outputs": [],
   "source": []
  },
  {
   "cell_type": "code",
   "execution_count": null,
   "metadata": {
    "collapsed": true
   },
   "outputs": [],
   "source": []
  }
 ],
 "metadata": {
  "anaconda-cloud": {},
  "kernelspec": {
   "display_name": "Python 2",
   "language": "python",
   "name": "python2"
  },
  "language_info": {
   "codemirror_mode": {
    "name": "ipython",
    "version": 2
   },
   "file_extension": ".py",
   "mimetype": "text/x-python",
   "name": "python",
   "nbconvert_exporter": "python",
   "pygments_lexer": "ipython2",
   "version": "2.7.6"
  }
 },
 "nbformat": 4,
 "nbformat_minor": 1
}
